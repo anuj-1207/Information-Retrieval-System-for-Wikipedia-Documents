{
 "cells": [
  {
   "cell_type": "code",
   "execution_count": 132,
   "id": "e15331c7",
   "metadata": {
    "id": "e15331c7"
   },
   "outputs": [],
   "source": [
    "import re\n",
    "import glob\n",
    "from nltk.stem import PorterStemmer\n",
    "from nltk.tokenize import WhitespaceTokenizer\n",
    "import pickle\n",
    "import numpy as np\n",
    "import collections\n",
    "import warnings \n",
    "warnings.filterwarnings('ignore')"
   ]
  },
  {
   "cell_type": "code",
   "execution_count": 9,
   "id": "2acac860",
   "metadata": {
    "id": "2acac860"
   },
   "outputs": [],
   "source": [
    "def remove_special_characters(text):\n",
    "    regex = re.compile('[^a-zA-Z0-9\\s]')\n",
    "    text_returned = re.sub(regex,' ',text)\n",
    "    return text_returned"
   ]
  },
  {
   "cell_type": "code",
   "execution_count": 63,
   "id": "f583de89",
   "metadata": {
    "id": "f583de89"
   },
   "outputs": [],
   "source": [
    "files = glob.glob('../Data files required/english-corpora/*.txt', recursive = True)\n",
    "ps = PorterStemmer()\n",
    "tk = WhitespaceTokenizer()\n",
    "data = {}\n",
    "i = 0\n",
    "for file in files:\n",
    "#     print(file,'\\n')\n",
    "    file1 = open(file,\"r\")\n",
    "    text1 = file1.read()\n",
    "    cleaned = remove_special_characters(text1)\n",
    "    cleaned = cleaned.replace(\"\\n\",\" \")\n",
    "    cleaned = cleaned.replace(\"\\t\",\" \")\n",
    "    cleaned = re.sub('\\s+',' ',cleaned)\n",
    "    cleaned = cleaned.lower()\n",
    "    token = tk.tokenize(cleaned)\n",
    "    stemming_output = ' '.join([ps.stem(w) for w in token])\n",
    "    name = file[16:-4]\n",
    "    data[name] = stemming_output\n",
    "#     print(data[name])\n",
    "    i += 1\n",
    "    if (i%300 == 0):\n",
    "        print('Document no equals ',i)\n",
    "#         break\n",
    "    break # Kept intentionally\n",
    "# print(data['C00010'])"
   ]
  },
  {
   "cell_type": "code",
   "execution_count": 64,
   "id": "Ck6NEPEEqiA_",
   "metadata": {
    "id": "Ck6NEPEEqiA_"
   },
   "outputs": [],
   "source": [
    "# with open('../Data files required/Processed_corpos_IR.pkl', 'wb') as f:\n",
    "#     pickle.dump(data, f)"
   ]
  },
  {
   "cell_type": "code",
   "execution_count": 65,
   "id": "4NQ1dWxlquSs",
   "metadata": {
    "id": "4NQ1dWxlquSs"
   },
   "outputs": [],
   "source": [
    "with open('../Data files required/Processed_corpos_IR.pkl', 'rb') as f:\n",
    "    data = pickle.load(f)"
   ]
  },
  {
   "cell_type": "code",
   "execution_count": 74,
   "id": "TrR27Del29H5",
   "metadata": {
    "colab": {
     "base_uri": "https://localhost:8080/"
    },
    "id": "TrR27Del29H5",
    "outputId": "3931eafa-3450-4859-9c8c-95f8f79cc173"
   },
   "outputs": [],
   "source": [
    "index_dict = {}\n",
    "i = 0\n",
    "for file in data.keys():\n",
    "    key = file\n",
    "    index_dict[key] = i\n",
    "    i += 1\n",
    "    # if i == 5000:\n",
    "    #     break\n",
    "# print(index_dict)"
   ]
  },
  {
   "cell_type": "code",
   "execution_count": 78,
   "id": "38FBFGoY-_uL",
   "metadata": {
    "colab": {
     "base_uri": "https://localhost:8080/"
    },
    "id": "38FBFGoY-_uL",
    "outputId": "63ab65c7-bcd3-44fc-87aa-ad50b87e7021"
   },
   "outputs": [
    {
     "data": {
      "text/plain": [
       "8351"
      ]
     },
     "execution_count": 78,
     "metadata": {},
     "output_type": "execute_result"
    }
   ],
   "source": [
    "index_dict2 = {v: k for k, v in index_dict.items()}\n",
    "# len(index_dict2)"
   ]
  },
  {
   "cell_type": "markdown",
   "id": "hJDEb0FH1xxU",
   "metadata": {
    "id": "hJDEb0FH1xxU"
   },
   "source": [
    "#### Making a dict having info about no of words in each document.\n",
    "#### Also calculating average no of words accross all documents :"
   ]
  },
  {
   "cell_type": "code",
   "execution_count": 80,
   "id": "TbMZPXG-1xES",
   "metadata": {
    "id": "TbMZPXG-1xES"
   },
   "outputs": [],
   "source": [
    "No_W_doc_dict = {}\n",
    "sum_ = 0\n",
    "for doc in data.keys():\n",
    "    No_W_doc_dict[doc] = len(data[doc])\n",
    "    sum_ += len(data[doc])\n",
    "Average_no_words = sum_ / 8351\n",
    "    # print(doc)\n",
    "    # break"
   ]
  },
  {
   "cell_type": "markdown",
   "id": "49b64d97",
   "metadata": {
    "id": "49b64d97"
   },
   "source": [
    "## Making posting list : "
   ]
  },
  {
   "cell_type": "code",
   "execution_count": 83,
   "id": "18fd8f86",
   "metadata": {
    "colab": {
     "base_uri": "https://localhost:8080/"
    },
    "id": "18fd8f86",
    "outputId": "4aee2071-4e70-4d02-a32c-6229953d71da",
    "scrolled": true
   },
   "outputs": [
    {
     "name": "stdout",
     "output_type": "stream",
     "text": [
      "Document no  300  and unique words till now equals  55990\n",
      "Document no  600  and unique words till now equals  90643\n",
      "Document no  900  and unique words till now equals  120380\n",
      "Document no  1200  and unique words till now equals  130917\n",
      "Document no  1500  and unique words till now equals  137096\n",
      "Document no  1800  and unique words till now equals  141646\n",
      "Document no  2100  and unique words till now equals  152638\n",
      "Document no  2400  and unique words till now equals  157973\n",
      "Document no  2700  and unique words till now equals  160482\n",
      "Document no  3000  and unique words till now equals  162144\n",
      "Document no  3300  and unique words till now equals  186461\n",
      "Document no  3600  and unique words till now equals  200096\n",
      "Document no  3900  and unique words till now equals  212808\n",
      "Document no  4200  and unique words till now equals  216325\n",
      "Document no  4500  and unique words till now equals  217200\n",
      "Document no  4800  and unique words till now equals  218310\n",
      "Document no  5100  and unique words till now equals  231674\n",
      "Document no  5400  and unique words till now equals  248599\n",
      "Document no  5700  and unique words till now equals  263936\n",
      "Document no  6000  and unique words till now equals  264984\n",
      "Document no  6300  and unique words till now equals  280989\n",
      "Document no  6600  and unique words till now equals  306643\n",
      "Document no  6900  and unique words till now equals  323581\n",
      "Document no  7200  and unique words till now equals  384114\n",
      "Document no  7500  and unique words till now equals  443944\n",
      "Document no  7800  and unique words till now equals  470995\n",
      "Document no  8100  and unique words till now equals  494009\n"
     ]
    },
    {
     "data": {
      "text/plain": [
       "549255"
      ]
     },
     "execution_count": 83,
     "metadata": {},
     "output_type": "execute_result"
    }
   ],
   "source": [
    "unique_words = []\n",
    "unique_words_dict = {}\n",
    "i = 0\n",
    "for key in data.keys():\n",
    "    i += 1\n",
    "    for word in data[key].split():\n",
    "        if unique_words_dict.get(word, 0)  == 0:\n",
    "            unique_words.append(word)\n",
    "            unique_words_dict[word] = 1\n",
    "        else:\n",
    "            pass\n",
    "    if i%300 == 0:\n",
    "        print('Document no ',i,' and unique words till now equals ',len(unique_words))\n",
    "len(unique_words)"
   ]
  },
  {
   "cell_type": "code",
   "execution_count": 85,
   "id": "_AoKM4w8v1X9",
   "metadata": {
    "id": "_AoKM4w8v1X9"
   },
   "outputs": [],
   "source": [
    "# unique_words = []\n",
    "# unique_words_dict = {}\n",
    "temp_dict = {el:{} for el in unique_words}\n",
    "# dict2 = {}\n",
    "i = 0\n",
    "for key in data.keys():\n",
    "    i += 1\n",
    "    for word in data[key].split():\n",
    "        count = data[key].count(word)\n",
    "        temp_dict[word][key] = count\n",
    "        break # Kept intentionally\n",
    "    if i%300 == 0:\n",
    "        print('Document completed till now equals ',i)\n",
    "    break # Kept intentionally\n"
   ]
  },
  {
   "cell_type": "code",
   "execution_count": 86,
   "id": "9a3caac6",
   "metadata": {
    "id": "9a3caac6"
   },
   "outputs": [],
   "source": [
    "# with open('../Data files required/Saved_dictionary_IR.pkl', 'wb') as f:\n",
    "#     pickle.dump(temp_dict, f)"
   ]
  },
  {
   "cell_type": "code",
   "execution_count": 87,
   "id": "cO_8bvdzoj9P",
   "metadata": {
    "id": "cO_8bvdzoj9P"
   },
   "outputs": [],
   "source": [
    "with open('../Data files required/Saved_dictionary_IR.pkl', 'rb') as f:\n",
    "    loaded_dict = pickle.load(f)"
   ]
  },
  {
   "cell_type": "code",
   "execution_count": 88,
   "id": "-5EepjA9Wxtj",
   "metadata": {
    "colab": {
     "base_uri": "https://localhost:8080/"
    },
    "id": "-5EepjA9Wxtj",
    "outputId": "3a3dd86e-0c96-4f29-e7fb-26a2f529c65b"
   },
   "outputs": [
    {
     "data": {
      "text/plain": [
       "549255"
      ]
     },
     "execution_count": 88,
     "metadata": {},
     "output_type": "execute_result"
    }
   ],
   "source": [
    "len(loaded_dict)"
   ]
  },
  {
   "cell_type": "markdown",
   "id": "ty-Q5M-mti8u",
   "metadata": {
    "id": "ty-Q5M-mti8u"
   },
   "source": [
    "### Making dict to fetch index no for every word and vice-versa"
   ]
  },
  {
   "cell_type": "code",
   "execution_count": 90,
   "id": "hgkIFQFctij1",
   "metadata": {
    "id": "hgkIFQFctij1"
   },
   "outputs": [],
   "source": [
    "word_index = {}\n",
    "i = 0\n",
    "for word in unique_words:\n",
    "    word_index[word] = i\n",
    "    i += 1\n",
    "\n",
    "# word_index"
   ]
  },
  {
   "cell_type": "code",
   "execution_count": 91,
   "id": "1yGh1RYVtie2",
   "metadata": {
    "id": "1yGh1RYVtie2"
   },
   "outputs": [],
   "source": [
    "index_word = {v: k for k, v in word_index.items()}\n",
    "# index_word"
   ]
  },
  {
   "cell_type": "markdown",
   "id": "Md0engin1X7k",
   "metadata": {
    "id": "Md0engin1X7k"
   },
   "source": [
    "### Calculating IDF for every word and storing it :"
   ]
  },
  {
   "cell_type": "code",
   "execution_count": 93,
   "id": "SxFR8Y501Xju",
   "metadata": {
    "id": "SxFR8Y501Xju"
   },
   "outputs": [],
   "source": [
    "word_IDF_dict = {}\n",
    "for word in unique_words:\n",
    "    word_IDF_dict[word] = np.log2((8351 + 1) / (len(loaded_dict[word].keys()) + 1))"
   ]
  },
  {
   "cell_type": "markdown",
   "id": "mvN5gb63xb0i",
   "metadata": {
    "id": "mvN5gb63xb0i"
   },
   "source": [
    "### Making document norm required for TF-IDF model :"
   ]
  },
  {
   "cell_type": "code",
   "execution_count": 99,
   "id": "kbuyd5lQxjms",
   "metadata": {
    "id": "kbuyd5lQxjms"
   },
   "outputs": [],
   "source": [
    "document_norm_dict = {}\n",
    "for doc in data.keys():\n",
    "    vector = np.zeros(len(unique_words), dtype = int)\n",
    "    for word in unique_words:\n",
    "        indx = word_index[word]\n",
    "        try:\n",
    "            tf = loaded_dict[word][doc]\n",
    "        except:\n",
    "            tf = 0\n",
    "        vector[indx] = tf * word_IDF_dict[word]\n",
    "        break   #  Kept intentionally\n",
    "    norm = np.linalg.norm(vector)\n",
    "    document_norm_dict[doc] = norm\n",
    "    break       #  Kept intentionally\n",
    "\n",
    "# document_norm_dict['S00602'][100000]"
   ]
  },
  {
   "cell_type": "code",
   "execution_count": 100,
   "id": "_31L21EYOTqJ",
   "metadata": {
    "id": "_31L21EYOTqJ"
   },
   "outputs": [],
   "source": [
    "# with open('/content/drive/MyDrive/Colab Notebooks/document_norm_dict.pkl', 'wb') as f:\n",
    "#     pickle.dump(document_norm_dict, f)"
   ]
  },
  {
   "cell_type": "code",
   "execution_count": 101,
   "id": "yOcXctsFkj4x",
   "metadata": {
    "id": "yOcXctsFkj4x"
   },
   "outputs": [],
   "source": [
    "with open('../Data files required/document_norm_dict.pkl', 'rb') as f:\n",
    "    document_norm_dict = pickle.load(f)"
   ]
  },
  {
   "cell_type": "markdown",
   "id": "ZoCoPrWExAYM",
   "metadata": {
    "id": "ZoCoPrWExAYM"
   },
   "source": [
    "## Question 2\n",
    "\n",
    "### (a) Boolean retrival model : "
   ]
  },
  {
   "cell_type": "code",
   "execution_count": 106,
   "id": "GWeh4T8ZgVAa",
   "metadata": {
    "id": "GWeh4T8ZgVAa"
   },
   "outputs": [],
   "source": [
    "def clean(query):\n",
    "    regex = re.compile('[^a-zA-Z0-9\\s]')\n",
    "    cleaned = re.sub(regex,' ',query)\n",
    "    cleaned = cleaned.replace(\"\\n\",\" \")\n",
    "    cleaned = cleaned.replace(\"\\t\",\" \")\n",
    "    cleaned = re.sub('\\s+',' ',cleaned)\n",
    "    cleaned = cleaned.lower()\n",
    "    token = tk.tokenize(cleaned)\n",
    "    processed_query = ' '.join([ps.stem(w) for w in token])\n",
    "    return processed_query"
   ]
  },
  {
   "cell_type": "code",
   "execution_count": 107,
   "id": "c87vPaNNYlYV",
   "metadata": {
    "colab": {
     "base_uri": "https://localhost:8080/"
    },
    "id": "c87vPaNNYlYV",
    "outputId": "5e7019b0-b865-44ac-ee00-b79d22cb8a99"
   },
   "outputs": [
    {
     "name": "stdout",
     "output_type": "stream",
     "text": [
      "Enter your query: python programming language\n",
      "['python', 'program', 'languag']\n",
      "[]\n"
     ]
    }
   ],
   "source": [
    "query = input('Enter your query: ')\n",
    "query = clean(query)\n",
    "# print(query)\n",
    "connecting_words = []\n",
    "cnt = 1\n",
    "different_words = []\n",
    "for word in query.split():\n",
    "    if word.lower() != \"and\" and word.lower() != \"or\" and word.lower() != \"not\":\n",
    "        different_words.append(word.lower())\n",
    "    else:\n",
    "        connecting_words.append(word.lower())\n",
    "print(different_words)\n",
    "print(connecting_words)"
   ]
  },
  {
   "cell_type": "code",
   "execution_count": 109,
   "id": "9xIpJBcxiApC",
   "metadata": {
    "colab": {
     "base_uri": "https://localhost:8080/"
    },
    "id": "9xIpJBcxiApC",
    "outputId": "eb5c5b64-d350-4dcd-96b5-e5607b886d1e"
   },
   "outputs": [
    {
     "name": "stdout",
     "output_type": "stream",
     "text": [
      "{'python': array([False, False, False, ..., False, False, False]), 'program': array([False, False,  True, ..., False,  True, False]), 'languag': array([False,  True, False, ..., False, False, False])}\n"
     ]
    }
   ],
   "source": [
    "bool_dict = {}\n",
    "# arr2 = np.zeros(3, dtype=bool)\n",
    "for word in different_words:\n",
    "    # print(word)\n",
    "    if word in unique_words:\n",
    "        i = 0\n",
    "        bool_dict[word] = np.zeros(8351, dtype=bool)\n",
    "        documents = list(loaded_dict[word].keys())\n",
    "        indices = np.zeros(len(documents))\n",
    "        for x in documents:\n",
    "            try:\n",
    "                indices[i] = index_dict[x]\n",
    "                i += 1\n",
    "            except:\n",
    "                x = x[:-4]\n",
    "                indices[i] = index_dict[x]\n",
    "                i += 1\n",
    "        for ind in indices:\n",
    "            ind = int(ind)\n",
    "            bool_dict[word][ind] = 1\n",
    "\n",
    "# print(len(documents), len(indices))\n",
    "print(bool_dict)\n",
    "# bool_dict['cold'][40]"
   ]
  },
  {
   "cell_type": "code",
   "execution_count": 110,
   "id": "ZnaMM__uuUgN",
   "metadata": {
    "colab": {
     "base_uri": "https://localhost:8080/"
    },
    "id": "ZnaMM__uuUgN",
    "outputId": "7dcabfc2-7936-4c4a-e705-9ea3495d39e7"
   },
   "outputs": [
    {
     "data": {
      "text/plain": [
       "['python', 'program', 'languag']"
      ]
     },
     "execution_count": 110,
     "metadata": {},
     "output_type": "execute_result"
    }
   ],
   "source": [
    "query_list = query.split()\n",
    "if len(query_list) == 1:\n",
    "    value = query_list[0]\n",
    "query_list"
   ]
  },
  {
   "cell_type": "markdown",
   "id": "18Hx6ptLcHpD",
   "metadata": {
    "id": "18Hx6ptLcHpD"
   },
   "source": [
    "#### Processing not in query : "
   ]
  },
  {
   "cell_type": "code",
   "execution_count": 111,
   "id": "3hx3AbGHtvJf",
   "metadata": {
    "colab": {
     "base_uri": "https://localhost:8080/"
    },
    "id": "3hx3AbGHtvJf",
    "outputId": "1844212c-e9e4-42a9-f551-3052b9ea54f1"
   },
   "outputs": [
    {
     "name": "stdout",
     "output_type": "stream",
     "text": [
      "['python', 'program', 'languag']\n"
     ]
    }
   ],
   "source": [
    "i = 0\n",
    "for word in query_list:\n",
    "    if word == 'not':\n",
    "        next_word = query_list[i+1]\n",
    "        query_list.remove(word)\n",
    "        bool_dict[next_word] = ~ bool_dict[next_word]\n",
    "    i += 1\n",
    "print(query_list)\n",
    "# bool_dict"
   ]
  },
  {
   "cell_type": "markdown",
   "id": "HpjV_SpvcWR5",
   "metadata": {
    "id": "HpjV_SpvcWR5"
   },
   "source": [
    "#### Processing 'and' in query :"
   ]
  },
  {
   "cell_type": "code",
   "execution_count": 112,
   "id": "U3cwudB9z9gG",
   "metadata": {
    "colab": {
     "base_uri": "https://localhost:8080/"
    },
    "id": "U3cwudB9z9gG",
    "outputId": "57337016-d5ad-40de-f51c-3a1ce74d83f6"
   },
   "outputs": [
    {
     "name": "stdout",
     "output_type": "stream",
     "text": [
      "Query list equals :  ['python', 'program', 'languag']\n"
     ]
    }
   ],
   "source": [
    "i = 0\n",
    "j = 1\n",
    "while 'and' in  query_list:\n",
    "    word = query_list[i]\n",
    "    print(word)\n",
    "    if word == 'and':\n",
    "        prev_word = query_list[i-1]\n",
    "        # print(\"i equals : \",i)\n",
    "        next_word = query_list[i+1]\n",
    "        # print('Prev and next equals : ',prev_word,' ',next_word)\n",
    "        value = 'ans' + str(j)\n",
    "        j += 1\n",
    "        query_list[i] = value\n",
    "        # print(query_list)\n",
    "        query_list.remove(prev_word)\n",
    "        # print(\"i equals : \",i)\n",
    "        # print(query_list)\n",
    "        query_list.remove(next_word)\n",
    "        bool_dict[value] =  bool_dict[next_word] & bool_dict[prev_word]\n",
    "        i = 0\n",
    "    else :\n",
    "        i += 1\n",
    "\n",
    "print(\"Query list equals : \",query_list)\n",
    "# print(bool_dict)\n",
    "# print(j)"
   ]
  },
  {
   "cell_type": "markdown",
   "id": "kL5_yW6-s8lj",
   "metadata": {
    "id": "kL5_yW6-s8lj"
   },
   "source": [
    "#### Processing 'or' in query :"
   ]
  },
  {
   "cell_type": "code",
   "execution_count": 113,
   "id": "KAn-wicSz9Tt",
   "metadata": {
    "colab": {
     "base_uri": "https://localhost:8080/"
    },
    "id": "KAn-wicSz9Tt",
    "outputId": "6221495d-8ade-4be0-9c1d-cf7ec123100e"
   },
   "outputs": [
    {
     "name": "stdout",
     "output_type": "stream",
     "text": [
      "Query list equals :  ['python', 'program', 'languag']\n"
     ]
    }
   ],
   "source": [
    "i = 0\n",
    "while 'or' in  query_list:\n",
    "    word = query_list[i]\n",
    "    print(word)\n",
    "    if word == 'or':\n",
    "        prev_word = query_list[i-1]\n",
    "        # print(\"i equals : \",i)\n",
    "        next_word = query_list[i+1]\n",
    "        # print('Prev and next equals : ',prev_word,' ',next_word)\n",
    "        value = 'ans' + str(j)\n",
    "        j += 1\n",
    "        query_list[i] = value\n",
    "        # print(query_list)\n",
    "        query_list.remove(prev_word)\n",
    "        # print(\"i equals : \",i)\n",
    "        # print(query_list)\n",
    "        query_list.remove(next_word)\n",
    "        bool_dict[value] =  bool_dict[next_word] | bool_dict[prev_word]\n",
    "        i = 0\n",
    "    else :\n",
    "        i += 1\n",
    "    # if i >= len(query_list):\n",
    "    #     i = 0\n",
    "\n",
    "print(\"Query list equals : \",query_list)\n",
    "# print(bool_dict)\n",
    "# print(j)"
   ]
  },
  {
   "cell_type": "markdown",
   "id": "NMTEuzXKhTW0",
   "metadata": {
    "id": "NMTEuzXKhTW0"
   },
   "source": [
    "#### Processing other words : "
   ]
  },
  {
   "cell_type": "code",
   "execution_count": 114,
   "id": "vsT7VTAYsMHJ",
   "metadata": {
    "colab": {
     "base_uri": "https://localhost:8080/"
    },
    "id": "vsT7VTAYsMHJ",
    "outputId": "3ff33b5f-2920-4872-9c48-3b56abaeb308"
   },
   "outputs": [
    {
     "name": "stdout",
     "output_type": "stream",
     "text": [
      "Query list equals :  ['ans2']\n"
     ]
    }
   ],
   "source": [
    "i = 0\n",
    "while len(query_list) != 1:\n",
    "    word = query_list[i]\n",
    "    # print(word)\n",
    "    prev_word = query_list[i]\n",
    "    # print(\"i equals : \",i)\n",
    "    next_word = query_list[i+1]\n",
    "    # print('Prev and next equals : ',prev_word,' ',next_word)\n",
    "    value = 'ans' + str(j)\n",
    "    j += 1\n",
    "    query_list[0] = value\n",
    "    # query_list.remove(prev_word)\n",
    "    # print(\"i equals : \",i)\n",
    "    # print(query_list)\n",
    "    query_list.remove(next_word)\n",
    "    # print(query_list)\n",
    "    \n",
    "    bool_dict[value] =  bool_dict[next_word] & bool_dict[prev_word]\n",
    "    # i = 0\n",
    "    \n",
    "print(\"Query list equals : \",query_list)\n",
    "# print(bool_dict)\n",
    "# print(j)"
   ]
  },
  {
   "cell_type": "code",
   "execution_count": 115,
   "id": "Jq2qF4hIqgM9",
   "metadata": {
    "colab": {
     "base_uri": "https://localhost:8080/",
     "height": 128
    },
    "id": "Jq2qF4hIqgM9",
    "outputId": "2ef1e16f-f268-42d1-b547-8c077063238e"
   },
   "outputs": [
    {
     "data": {
      "text/plain": [
       "'Appropriate documents for given query are :  S00371, S00001, S00162, S00029, S00070, S00735, S00346, S00888, M00046, M00067, M00108, M00180, M00184, M00294, M00304, T00673, C00610, C00712, C00259, C00406, C00417, C00062, C00560, C00677, C00227, C00046, C00137, C00778, C00217, C00780, C00721, C00383, C00787, C00078, C00269, C00063, C00047, C00722, C00303, C00129, C00056, C00360, C00727, C00767, C00319, C00807, C00275, C00543, C00523, C00474, C00390, C00860, C00115, C00022, C00325, C00014, C00163, C00180, C00598, C00187, C00197, C00028, C00986, C00149, C00013, C00328, C00725, C00533, C00231, C00374, C00932, C00743, C00247, C00459, C00703, C00473, C00337, C00018, C00005, C00763, C00688, C00468, C00737, C00338, C00664, C00393, C00074, C00084, C00002, C00851, C00096, C00704, C00410, C00723, C00914, C00272, C00609, C00920, C00250, C00918, C00425, C00790, C00570, C00795, C00021, C00298, C00132, C00616, C00940, C00007, C00817, C00454, C00370, C00103, C00511, C00071, C00536, C00010, C00302, C00131, C00997, C00857, C00092, C00962, C00122, C00293, C00350, C00185, C00706, C00574, C00794, C00430, C00654, C00127, C00801, C00805, C00072, C00253, C00419, C00179, C00267, C00195, C00015, C00641, C00246, C00068, C00597, C00889, C00065, C00870, C00804, C00443, C00327, C00484, C00044, C00409, C00892, C00019, C00255, C00171, C00558, C00193, C00739, C00215, C00223, C00528, C00786, C00401, C00153, C00416, C00438, C00364, C00087, C00898, C00111, C00669, C00151, C00043, C00903, C00432, C00876, C00095, C00101, C00273, C00692, C00026, C00324, C00086, C00858, C00098, C00242, C00423, C00441, C00561, C00446, C00188, C00088, C00397, C00789, C00004, C00855, C00079, C00451, C00106, L00233, C00128, C00668, C00971, C00033, C00923, C00283, C00296, C00241, C00458, C00076, C00402, C00150, C00130, C00038, C00299, C00237, C00281, C00183, C00802, C00944, C00700, C00126, C00313, C00622, C00584, C00254, C00290, C00001, C00236, C00674, C00172, C00673, C00165, C00251, C00140, C00343, C00110, C00138, C00073, C00501, C00937, C00435, C00037, C00687, C00900, C00031, C00887, C00845, C00238, C00040, C00974, C00701, C00270, C00975, C00301, C00462, C00621, C00307, C00403, C00020, C00682, C00342, C00392, C00927, C00956, C00904, C00120, C00139, C00825, C00186, C00784, C00329, C00400, C00969, C00414, C00581, C00709, C00006, C00753, C00081, C00174, C00116, C00003, C00866, C00469, C00147, C00442, C00755, C00228, C00069, C00525, C00121, C00206, C00053, C00061, C00036, C00880, C00260, C00248, C00050, D00522, '"
      ]
     },
     "execution_count": 115,
     "metadata": {},
     "output_type": "execute_result"
    }
   ],
   "source": [
    "ans = bool_dict[value].copy()\n",
    "indx = np.where(ans)[0]\n",
    "final_ans = \"Appropriate documents for given query are :  \"\n",
    "for x in indx:\n",
    "    final_ans += index_dict2[x] + ', '\n",
    "final_ans"
   ]
  },
  {
   "cell_type": "markdown",
   "id": "v4SBeZLEl4Vz",
   "metadata": {
    "id": "v4SBeZLEl4Vz"
   },
   "source": [
    "### (b) (20 marks) Implement a system from the Tf-Idf family with appropriate forms for the functions and tuned parameters. A query is matched using cosine similarity. : "
   ]
  },
  {
   "cell_type": "code",
   "execution_count": 133,
   "id": "5MUu9CsVngIW",
   "metadata": {
    "colab": {
     "base_uri": "https://localhost:8080/"
    },
    "id": "5MUu9CsVngIW",
    "outputId": "1b26b703-6fcb-4f79-a7f7-e78e8ee8d863"
   },
   "outputs": [
    {
     "name": "stdout",
     "output_type": "stream",
     "text": [
      "Enter your query: python and c++\n"
     ]
    },
    {
     "data": {
      "text/plain": [
       "['python', 'and', 'c']"
      ]
     },
     "execution_count": 133,
     "metadata": {},
     "output_type": "execute_result"
    }
   ],
   "source": [
    "query = input('Enter your query: ')\n",
    "query = clean(query)\n",
    "# print(query)\n",
    "query_list = query.split()\n",
    "query_list"
   ]
  },
  {
   "cell_type": "code",
   "execution_count": 135,
   "id": "BSRgMhdCLCmg",
   "metadata": {
    "colab": {
     "base_uri": "https://localhost:8080/"
    },
    "id": "BSRgMhdCLCmg",
    "outputId": "a3cfb87b-edcd-4d0b-910c-a731eb42c41f"
   },
   "outputs": [
    {
     "data": {
      "text/plain": [
       "array([0.97167289, 0.00417251, 0.236293  ])"
      ]
     },
     "execution_count": 135,
     "metadata": {},
     "output_type": "execute_result"
    }
   ],
   "source": [
    "query_vector = []\n",
    "for word in query_list:\n",
    "\n",
    "    if word in unique_words:\n",
    "        idf_word = word_IDF_dict[word]\n",
    "    else:\n",
    "        idf_word = 0\n",
    "\n",
    "    tf_idf = query_list.count(word) * idf_word\n",
    "    query_vector.append(tf_idf)\n",
    "#     q_norm+=tf_idf**2\n",
    "# q_norm=math.sqrt(q_norm)\n",
    "\n",
    "query_norm = np.linalg.norm(query_vector)\n",
    "query_vector = np.array(query_vector) / query_norm\n",
    "query_vector"
   ]
  },
  {
   "cell_type": "code",
   "execution_count": 137,
   "id": "W01mEL46nf_E",
   "metadata": {
    "colab": {
     "base_uri": "https://localhost:8080/"
    },
    "id": "W01mEL46nf_E",
    "outputId": "6456e63b-4a62-4b74-fe10-9733766436d9"
   },
   "outputs": [],
   "source": [
    "# score = np.zeros(len(data.keys()))\n",
    "score = {}\n",
    "for i in index_dict2.keys():\n",
    "    doc_vector = []\n",
    "    for word in query_list:\n",
    "        doc = index_dict2[i]\n",
    "        if word in unique_words:\n",
    "            idf_word = word_IDF_dict[word]\n",
    "            try:\n",
    "                tf = loaded_dict[word][doc]\n",
    "            except:\n",
    "                tf = 0\n",
    "            tf_idf = tf * idf_word\n",
    "        else:\n",
    "            tf_idf = 0\n",
    "\n",
    "        doc_vector.append(tf_idf)\n",
    "    doc_vector = np.array(doc_vector) / document_norm_dict[doc]\n",
    "    key = np.dot(query_vector,doc_vector)\n",
    "    score[key] = doc\n",
    "\n",
    "# score = sorted(score.items(),key=lambda x:x[1],reverse=True)"
   ]
  },
  {
   "cell_type": "code",
   "execution_count": 138,
   "id": "_9qID-cey1du",
   "metadata": {
    "id": "_9qID-cey1du"
   },
   "outputs": [],
   "source": [
    "score_dict = collections.OrderedDict(sorted(score.items(),reverse=True))\n",
    "# score_dict"
   ]
  },
  {
   "cell_type": "code",
   "execution_count": 139,
   "id": "t2ytmQ3Ynf8A",
   "metadata": {
    "colab": {
     "base_uri": "https://localhost:8080/"
    },
    "id": "t2ytmQ3Ynf8A",
    "outputId": "b6da1828-8917-43ba-b94c-e41711cc28d4"
   },
   "outputs": [
    {
     "name": "stdout",
     "output_type": "stream",
     "text": [
      "Document  1  equals  C00005   0.18364900609049842\n",
      "Document  2  equals  S00724   0.1602079458663031\n",
      "Document  3  equals  S00785   0.15197272362818917\n",
      "Document  4  equals  S00262   0.14380047125397788\n",
      "Document  5  equals  S00791   0.13677040394364792\n",
      "Document  6  equals  S00703   0.13388248956217375\n",
      "Document  7  equals  C00962   0.13269226375929355\n",
      "Document  8  equals  C00516   0.13111208218417256\n",
      "Document  9  equals  C00730   0.12981945931284836\n",
      "Document  10  equals  S00440   0.12866788673955343\n"
     ]
    }
   ],
   "source": [
    "# score_dict = collections.OrderedDict(sorted(score.items(),reverse=True))\n",
    "# od.keys()\n",
    "count = 1\n",
    "for k,v in score_dict.items():\n",
    "    print(\"Document \",count,\" equals \",v,\" \",k)\n",
    "    count += 1\n",
    "    if count == 11:\n",
    "        break"
   ]
  },
  {
   "cell_type": "markdown",
   "id": "Ml3k9t6wyrAa",
   "metadata": {
    "id": "Ml3k9t6wyrAa"
   },
   "source": [
    "### (c) (20 marks) Implement a system from the BM25 family with appropriate forms for the functions and tuned parameters."
   ]
  },
  {
   "cell_type": "markdown",
   "id": "7JV8ouD9t36p",
   "metadata": {
    "id": "7JV8ouD9t36p"
   },
   "source": [
    "#### Calculating IDF (for every word ) required for BM25 :"
   ]
  },
  {
   "cell_type": "code",
   "execution_count": 125,
   "id": "jcO6_s2wy1kM",
   "metadata": {
    "id": "jcO6_s2wy1kM"
   },
   "outputs": [],
   "source": [
    "word_IDF_dict_BM25 = {}\n",
    "for word in unique_words:\n",
    "    freq = len(loaded_dict[word].keys())\n",
    "    num = 8531 - freq + 0.5\n",
    "    den = freq + 0.5\n",
    "    word_IDF_dict_BM25[word] = np.log(1 + num/den)"
   ]
  },
  {
   "cell_type": "markdown",
   "id": "15bgDY0D6VHd",
   "metadata": {
    "id": "15bgDY0D6VHd"
   },
   "source": [
    "##### BM25 started : "
   ]
  },
  {
   "cell_type": "code",
   "execution_count": 127,
   "id": "OcUE1EGBy1df",
   "metadata": {
    "colab": {
     "base_uri": "https://localhost:8080/"
    },
    "id": "OcUE1EGBy1df",
    "outputId": "b96f1e03-ff99-4d2d-80a0-fd9ae80ca495"
   },
   "outputs": [
    {
     "name": "stdout",
     "output_type": "stream",
     "text": [
      "Enter your query: python programming language\n"
     ]
    },
    {
     "data": {
      "text/plain": [
       "['python', 'program', 'languag']"
      ]
     },
     "execution_count": 127,
     "metadata": {},
     "output_type": "execute_result"
    }
   ],
   "source": [
    "query = input('Enter your query: ')\n",
    "query = clean(query)\n",
    "# print(query)\n",
    "query_list = query.split()\n",
    "query_list"
   ]
  },
  {
   "cell_type": "code",
   "execution_count": 128,
   "id": "TU_V0kCty1Z9",
   "metadata": {
    "id": "TU_V0kCty1Z9"
   },
   "outputs": [],
   "source": [
    "score_BM25 = {}\n",
    "k = 1.2\n",
    "b = 0.75\n",
    "for doc in data.keys():\n",
    "    Sum = 0\n",
    "    for word in query_list:\n",
    "        try:\n",
    "            tf = loaded_dict[word][doc]\n",
    "            idf = word_IDF_dict_BM25[word]\n",
    "            num = idf * tf * (k + 1)\n",
    "            den = tf + k * (1 - b + b*No_W_doc_dict[doc]/Average_no_words )\n",
    "            Sum += num/den\n",
    "        except:\n",
    "            pass\n",
    "    score_BM25[Sum] = doc"
   ]
  },
  {
   "cell_type": "code",
   "execution_count": 130,
   "id": "4qQ-cSxqy1WF",
   "metadata": {
    "colab": {
     "base_uri": "https://localhost:8080/"
    },
    "id": "4qQ-cSxqy1WF",
    "outputId": "f4713695-e4f0-4678-f1f3-8256af02b5d8"
   },
   "outputs": [
    {
     "name": "stdout",
     "output_type": "stream",
     "text": [
      "OrderedDict([(12.3871565021086, 'C00005'), (12.01468016290079, 'C00892'), (11.932025316899862, 'C00712'), (11.859656934315488, 'C00237'), (11.822587488063023, 'C00669'), (11.79707857997897, 'C00197'), (11.764972611476507, 'C00462'), (11.684093072001238, 'C00044'), (11.590017549225454, 'C00425'), (11.582161005820069, 'C00753'), (11.579512906088402, 'C00543'), (11.542605505370869, 'C00962'), (11.464524494486836, 'C00737'), (11.4439807771987, 'C00338'), (11.43908341471, 'C00106'), (11.424037794587601, 'C00392'), (11.416595438155007, 'C00682'), (11.39854199301152, 'C00622'), (11.39415381529027, 'C00484'), (11.381144409800694, 'C00944'), (11.320626265532717, 'C00706'), (11.31094385909944, 'C00360'), (11.300377283657681, 'C00920'), (11.298202377232748, 'C00523'), (11.291467424737503, 'C00076'), (11.268039654538029, 'C00406'), (11.256707744950358, 'C00664'), (11.23260813268881, 'C00805'), (11.212914289498512, 'C00324'), (11.188030866116788, 'C00971'), (11.17212445193756, 'C00026'), (11.158723336256966, 'C00767'), (11.149567955451552, 'C00876'), (11.135086597878441, 'C00787'), (11.079833280976551, 'C00270'), (11.071486266616596, 'C00825'), (11.053838704588197, 'C00616'), (11.033829180980227, 'C00409'), (11.03049412189391, 'C00581'), (11.011222567650286, 'C00937'), (10.979625009949983, 'C00927'), (10.976717130361394, 'C00290'), (10.968190791633345, 'C00441'), (10.958684798270811, 'C00817'), (10.95862105622217, 'C00403'), (10.911793013016812, 'C00046'), (10.887039928619132, 'C00721'), (10.862555554796483, 'C00900'), (10.85188950914905, 'C00149'), (10.844637279671272, 'C00374'), (10.833195899120286, 'C00435'), (10.808401600426421, 'C00904'), (10.796590704466645, 'C00401'), (10.782093934572883, 'C00007'), (10.760826991125889, 'C00511'), (10.750599397674607, 'C00140'), (10.732682947608513, 'C00179'), (10.703904389032456, 'C00801'), (10.654978166817404, 'C00419'), (10.64172911061969, 'C00269'), (10.592862935120017, 'C00887'), (10.59004287533879, 'C00780'), (10.58962758916042, 'C00789'), (10.58861381364921, 'C00307'), (10.585857058008546, 'C00851'), (10.581592203081367, 'C00870'), (10.56412139935103, 'C00725'), (10.491166386316841, 'C00013'), (10.462006395138456, 'C00727'), (10.451401621548031, 'C00036'), (10.441890904428798, 'C00019'), (10.434476927556615, 'C00459'), (10.406700351140561, 'C00402'), (10.392589545165636, 'C00417'), (10.392354518668444, 'C00238'), (10.363140097971119, 'C00273'), (10.350001649873663, 'C00037'), (10.295889262292945, 'C00329'), (10.281237216594866, 'C00033'), (10.271076994763147, 'C00020'), (10.255473111477615, 'C00845'), (10.24860442299465, 'C00096'), (10.18893056786286, 'C00047'), (10.157330454361155, 'C00115'), (10.155897424880376, 'C00880'), (10.137197481566517, 'C00807'), (10.13706281331708, 'C00432'), (10.134749676580862, 'C00128'), (10.11813556713068, 'C00383'), (10.109765207254899, 'C00342'), (10.095668277885146, 'C00236'), (10.05466193354355, 'C00794'), (10.030391838045277, 'C00223'), (10.021558432759791, 'C00701'), (9.951148345961535, 'C00337'), (9.927286802646686, 'C00065'), (9.914227721798438, 'C00103'), (9.901153906590798, 'C00111'), (9.898146916110743, 'C00997'), (9.84460246804452, 'C00010'), (9.82126113753236, 'C00087'), (9.819316600344138, 'C00002'), (9.77169173932833, 'C00860'), (9.769454549055098, 'C00570'), (9.768688997069734, 'C00561'), (9.762629267010842, 'C00451'), (9.73791385597802, 'C00247'), (9.661294766502177, 'C00898'), (9.64393696494524, 'C00442'), (9.631214845963394, 'C00063'), (9.530157530187248, 'C00313'), (9.497933063598136, 'C00327'), (9.49530978591702, 'C00206'), (9.477135565691839, 'S00162'), (9.476682395869302, 'C00654'), (9.436393131752023, 'C00416'), (9.377905540932089, 'C00597'), (9.374917330692323, 'C00393'), (9.373631392187455, 'C00281'), (9.353613058606802, 'C00903'), (9.341963140187584, 'C00790'), (9.327091648585798, 'S00735'), (9.314265100363201, 'C00260'), (9.313434963813656, 'C00704'), (9.29164889199319, 'C00031'), (9.283709896140198, 'S00371'), (9.276341871964563, 'M00184'), (9.26669461793439, 'C00272'), (9.249609605121975, 'C00969'), (9.241502610342856, 'C00889'), (9.237675601166522, 'C00122'), (9.179072503411502, 'C00138'), (9.168177026426097, 'C00454'), (9.128525011510213, 'C00014'), (9.122244769407555, 'C00062'), (9.11296737789902, 'C00722'), (9.104088325758351, 'C00174'), (9.098696356537797, 'C00095'), (9.044561008565934, 'C00975'), (9.019929792632945, 'C00802'), (9.009519262572848, 'C00423'), (9.00476052564317, 'C00364'), (9.003120386337178, 'C00443'), (8.994193988430336, 'C00598'), (8.962173908568985, 'C00195'), (8.941719401576007, 'M00294'), (8.936331123373785, 'C00687'), (8.930088217343117, 'C00298'), (8.926090556671909, 'C00328'), (8.906484816828527, 'C00914'), (8.906011553241242, 'C00795'), (8.888564796736361, 'C00253'), (8.886493065019389, 'C00986'), (8.874212908140343, 'M00067'), (8.868383177017957, 'C00674'), (8.851384555107362, 'C00692'), (8.847558193793816, 'C00153'), (8.83579760137349, 'C00560'), (8.813011042534505, 'C00763'), (8.766738439927312, 'C00778'), (8.758374199934153, 'C00974'), (8.753254184300546, 'C00918'), (8.74958499988346, 'C00183'), (8.723949594042386, 'C00131'), (8.722515318997562, 'C00139'), (8.720306430457317, 'C00858'), (8.707920228543411, 'C00180'), (8.702495479108336, 'C00940'), (8.691189224444047, 'C00668'), (8.674265241348003, 'C00250'), (8.60911973194246, 'C00185'), (8.609029937760981, 'C00246'), (8.559653810680375, 'C00700'), (8.541796323645759, 'C00086'), (8.50827332783163, 'M00180'), (8.479784819501281, 'C00430'), (8.475008955749, 'C00003'), (8.47358896522877, 'C00137'), (8.472571815358176, 'C00078'), (8.468301062073305, 'C00574'), (8.451195679941533, 'C00673'), (8.41190342258415, 'C00241'), (8.407059187935126, 'C00251'), (8.389267111074265, 'C00641'), (8.372771582422313, 'C00302'), (8.366997265045327, 'C00370'), (8.352588760199232, 'C00855'), (8.338018763392505, 'C00188'), (8.318205577213261, 'S00888'), (8.317982721880426, 'C00857'), (8.300710529050964, 'C00072'), (8.285369070737389, 'C00283'), (8.283154755522979, 'C00558'), (8.254368140934826, 'C00446'), (8.253591173826123, 'C00116'), (8.25124412640708, 'C00121'), (8.222746072640934, 'C00866'), (8.218706885464332, 'C00709'), (8.214392120133411, 'C00171'), (8.20484192100371, 'C00255'), (8.184373330544895, 'C00325'), (8.174264848201945, 'C00319'), (8.170773441257973, 'C00079'), (8.131888041992248, 'C00293'), (8.12176755178589, 'C00458'), (8.117917528654516, 'C00536'), (8.113750774057307, 'C00275'), (8.091181169788241, 'S00346'), (8.072928871309566, 'C00001'), (8.070973977242398, 'C00101'), (8.063371201826891, 'C00303'), (7.984369713514376, 'C00092'), (7.983405147985065, 'C00621'), (7.982771505684854, 'C00786'), (7.981219419398542, 'C00438'), (7.975982545343843, 'C00129'), (7.972583384703796, 'C00227'), (7.970756662817074, 'C00071'), (7.9678427552280136, 'C00350'), (7.881456668418287, 'C00584'), (7.796010892940696, 'C00186'), (7.760202653594682, 'C00755'), (7.759352457882547, 'C00343'), (7.754889109978664, 'C00784'), (7.754256820423979, 'C00254'), (7.740819049760738, 'M00108'), (7.710015644466895, 'C00296'), (7.6910900734673175, 'C00028'), (7.632449095355727, 'C00073'), (7.563137538310806, 'C00956'), (7.560108404375489, 'C00739'), (7.559357451036192, 'C00610'), (7.556836132917401, 'C00743'), (7.541017189692924, 'C00130'), (7.528260406221774, 'C00474'), (7.526295175378806, 'C00259'), (7.511548118075727, 'C00022'), (7.510613571927499, 'C00018'), (7.439920832578624, 'S00070'), (7.407676197149918, 'C00150'), (7.405090443347116, 'C00528'), (7.401243945145117, 'C00231'), (7.39639231419003, 'M00046'), (7.349194629659906, 'C00132'), (7.341061716160248, 'C00248'), (7.308156257937808, 'C00703'), (7.284007891538461, 'C00127'), (7.27037465928774, 'S00712'), (7.246383889875968, 'C00299'), (7.232691484414927, 'C00267'), (7.230436118024584, 'C00043'), (7.181766118820373, 'C00923'), (7.164482933970868, 'C00081'), (7.153793341517342, 'C00804'), (7.1376513055611825, 'C00301'), (7.106894412365079, 'C00609'), (7.071751010265355, 'D00522'), (7.021061094103269, 'C00074'), (6.9895792926005615, 'C00533'), (6.9732195540760795, 'C00242'), (6.92681686751688, 'S00398'), (6.903886890817715, 'C00151'), (6.867295644885118, 'C00004'), (6.8647598455400205, 'C00006'), (6.848456758295251, 'C00400'), (6.845850712719752, 'C00088'), (6.844555934308805, 'C00217'), (6.832198459787044, 'C00040'), (6.8251617202483486, 'C00612'), (6.797791574427514, 'C00084'), (6.7611242965961695, 'T00500'), (6.727965346549805, 'T00691'), (6.72506178879932, 'C00021'), (6.708538531935798, 'C00056'), (6.701103357207673, 'C00905'), (6.638838662365804, 'C00120'), (6.575703184879451, 'C00165'), (6.553786072113119, 'C00397'), (6.533638635162404, 'C00660'), (6.513976523116501, 'C00414'), (6.512931756741251, 'M00304'), (6.486364262302178, 'C00187'), (6.479912695733041, 'C00038'), (6.465909021064121, 'C00468'), (6.451126783817837, 'C00469'), (6.44293778757912, 'C00098'), (6.441598401397828, 'C00172'), (6.418798584178004, 'C00069'), (6.399981093407224, 'T00062'), (6.353243233366051, 'C00163'), (6.234750465306735, 'L00233'), (6.225981676151059, 'C00501'), (6.204605060966822, 'C00729'), (6.163698886896, 'C00525'), (6.074098787483997, 'C00433'), (6.057257893257218, 'C00723'), (6.054114705908702, 'S00001'), (6.010644798082643, 'C00228'), (5.972962848824222, 'C00671'), (5.96577972828352, 'C00110'), (5.934958026810813, 'S00644'), (5.900671717341141, 'C00626'), (5.873041941158364, 'C00499'), (5.851402734291895, 'C00230'), (5.735952496633608, 'C01000'), (5.73567969741036, 'C00215'), (5.725178228666498, 'C00677'), (5.68606294633019, 'C00332'), (5.681638292252957, 'C00027'), (5.681303400933831, 'C00050'), (5.679265248931108, 'C00258'), (5.673895824773995, 'C00912'), (5.668484895733878, 'C00053'), (5.665036262243634, 'C00144'), (5.654308767627196, 'C00483'), (5.641163255243837, 'C00760'), (5.629487526318646, 'C00566'), (5.625238665927565, 'C00080'), (5.620300930583544, 'C00932'), (5.618016625599106, 'L00410'), (5.602844571727337, 'C00980'), (5.598602503539915, 'C00624'), (5.584213609651312, 'C00564'), (5.583602433822822, 'C00282'), (5.577895054946119, 'C00552'), (5.574834903868602, 'C00491'), (5.571004432239636, 'C00225'), (5.568392399848232, 'C00477'), (5.5651276162396695, 'C00773'), (5.545648928421494, 'C00922'), (5.539845080143538, 'C00605'), (5.532625735221135, 'C00982'), (5.526282690052318, 'C00431'), (5.525009479047187, 'C00321'), (5.524474170014002, 'C00114'), (5.521374622447253, 'C00665'), (5.516463692600112, 'C00294'), (5.508632980401256, 'C00554'), (5.504055840491503, 'C00891'), (5.495467216243148, 'C00965'), (5.493186147184154, 'C00093'), (5.491735831947883, 'C00882'), (5.491584149224412, 'C00224'), (5.486116190003345, 'C00311'), (5.484832771068968, 'C00614'), (5.480757707210756, 'C00399'), (5.480009332741632, 'C00480'), (5.473929178463118, 'C00791'), (5.473656604579066, 'C00181'), (5.468733483593466, 'C00221'), (5.460758825729686, 'C00833'), (5.45491355744821, 'C00688'), (5.453450877217316, 'C00427'), (5.451492073547849, 'C00699'), (5.451308352871677, 'C00935'), (5.448204656447677, 'C00058'), (5.44746384401985, 'C00582'), (5.444394298052178, 'C00498'), (5.443442934451242, 'C00297'), (5.441790582499198, 'C00856'), (5.435413559439003, 'C00032'), (5.434775326362754, 'T00642'), (5.428170026661613, 'C00390'), (5.417014418630073, 'C00015'), (5.406854452289478, 'C00938'), (5.405468550738566, 'C00781'), (5.405328069783891, 'C00741'), (5.403702619135748, 'C00160'), (5.403626829450214, 'M00042'), (5.4003697706160905, 'C00567'), (5.399472004277309, 'C00009'), (5.395728753623294, 'C00859'), (5.389750201864803, 'C00911'), (5.389199089037501, 'C00159'), (5.384526382685328, 'C00943'), (5.381112043184222, 'C00245'), (5.370742825524026, 'C00655'), (5.362482230609121, 'C00035'), (5.361690247953419, 'C00684'), (5.354030194107649, 'C00811'), (5.352697579293258, 'C00243'), (5.351148862775391, 'C00844'), (5.350297831436778, 'C00607'), (5.348584623620299, 'C00530'), (5.346305881432448, 'C00861'), (5.341085385149459, 'C00796'), (5.340235134288929, 'C00544'), (5.339528854734038, 'C00351'), (5.338833668671908, 'C00395'), (5.335600364461367, 'C00526'), (5.335148352791874, 'C00979'), (5.3351235007000835, 'C00894'), (5.335096141136735, 'M00285'), (5.331676725042573, 'C00034'), (5.326925557998452, 'C00308'), (5.3192620839244045, 'C00915'), (5.3154295981561805, 'C00553'), (5.30743603656612, 'C00136'), (5.305580311406491, 'C00119'), (5.303816739624818, 'C00105'), (5.29994745869498, 'C00788'), (5.299248036516934, 'C00278'), (5.295700864790701, 'C00346'), (5.291376452252896, 'T00725'), (5.289270260484717, 'C00970'), (5.284376747139419, 'C00599'), (5.2795467822754745, 'C00693'), (5.277361531019703, 'C00555'), (5.272574349946305, 'C00394'), (5.271333853876273, 'C00711'), (5.261938304316249, 'C00885'), (5.259044445357825, 'C00559'), (5.258914424420095, 'C00407'), (5.254640522568182, 'C00647'), (5.254274491482498, 'C00527'), (5.253384758557148, 'T00657'), (5.24976558379934, 'C00352'), (5.244743252914718, 'C00331'), (5.244485316007787, 'C00094'), (5.242284884337033, 'C00740'), (5.2418636473866815, 'C00836'), (5.240030909926169, 'S00415'), (5.230569395882325, 'C00896'), (5.2180268111953385, 'C00466'), (5.216779995558488, 'C00847'), (5.210521313412935, 'C00953'), (5.205163667830142, 'C00933'), (5.203251556714379, 'C00320'), (5.181000131868911, 'C00011'), (5.17973352539954, 'C00617'), (5.1751753404429195, 'C00049'), (5.170869870462889, 'C00608'), (5.169407340950125, 'C00249'), (5.16827554301092, 'C00537'), (5.1541618755154115, 'C00888'), (5.151212950843181, 'C00104'), (5.150513899616046, 'C00985'), (5.1485411911856644, 'C00999'), (5.142403654316727, 'C00306'), (5.139348204900843, 'D00837'), (5.138417252824921, 'C00799'), (5.138284551727235, 'T00718'), (5.135005681478183, 'C00832'), (5.133709293510971, 'C00540'), (5.1314620188177305, 'S00046'), (5.131088582578041, 'C00478'), (5.127143203262442, 'C00809'), (5.1254086166499295, 'M00183'), (5.122217593666137, 'C00456'), (5.113612281690992, 'C00142'), (5.112501070341672, 'C00698'), (5.110847484890427, 'T00499'), (5.100055230370936, 'C00752'), (5.098247162792269, 'C00518'), (5.097012581986444, 'C00602'), (5.096915962210684, 'C00968'), (5.096651714500382, 'C00070'), (5.092092272901515, 'C00112'), (5.086352635412114, 'C00775'), (5.080496030773518, 'C00653'), (5.076425823832068, 'C00633'), (5.066988719807908, 'C00983'), (5.045909531351349, 'C00731'), (5.0419570289426225, 'L00094'), (5.027683479628189, 'C00447'), (5.025310235412607, 'C00193'), (5.023118174076881, 'S00211'), (5.012672855228782, 'C00488'), (5.00171366857883, 'C00108'), (4.993683016777635, 'L00255'), (4.992690533970698, 'M00045'), (4.988356203770809, 'C00218'), (4.977105473044988, 'C00500'), (4.975781619058294, 'M00058'), (4.972763112852949, 'S00029'), (4.9723021599837205, 'C00061'), (4.971322576406874, 'C00201'), (4.969967313372926, 'D00871'), (4.96662066706315, 'C00814'), (4.954340362573082, 'S00080'), (4.954090623253119, 'C00690'), (4.95406647108908, 'C00287'), (4.946050461120435, 'L00196'), (4.9358110554369246, 'S00009'), (4.92754019362075, 'C00765'), (4.926740381317484, 'C00366'), (4.925813021481582, 'C00314'), (4.92194719258497, 'C00226'), (4.91975548981131, 'C00895'), (4.916621022197314, 'C00067'), (4.9120966645131485, 'S00314'), (4.900824925089504, 'C00550'), (4.900522870572992, 'C00348'), (4.883094145893821, 'C00310'), (4.883030398099808, 'C00593'), (4.864945113653792, 'T00063'), (4.864189163579557, 'S00058'), (4.86387849267145, 'L00121'), (4.860642813733691, 'S00458'), (4.858831670590747, 'C00100'), (4.853582849295005, 'S00035'), (4.853447774187034, 'C00846'), (4.850190034335878, 'C00085'), (4.849000245327959, 'M00011'), (4.8482930172355925, 'M00012'), (4.841752974841144, 'S00105'), (4.840735577115316, 'C00358'), (4.833980714523862, 'C00220'), (4.8287792552910505, 'C00266'), (4.827771719180268, 'C00410'), (4.825598192257283, 'S00261'), (4.814588454881651, 'C00751'), (4.800072339300219, 'M00224'), (4.791820871068634, 'C00949'), (4.790587880103393, 'C00355'), (4.789894622217384, 'C00768'), (4.7874750051401485, 'D00817'), (4.787174518531424, 'C00732'), (4.784686979321848, 'C00134'), (4.783427242648628, 'C00415'), (4.7812713528940325, 'C00211'), (4.774415989074553, 'C00864'), (4.763907638109229, 'C00262'), (4.762259731841546, 'C00426'), (4.760001240009574, 'M00174'), (4.756960003259133, 'C00203'), (4.756942054392104, 'C00590'), (4.75478185811415, 'S00213'), (4.748236447303949, 'C00333'), (4.746888464577805, 'C00726'), (4.745738815691835, 'M00031'), (4.744603035914558, 'C00643'), (4.73861503121504, 'M00244'), (4.738286633442621, 'M00198'), (4.7380347758313786, 'M00187'), (4.736046410361716, 'C00334'), (4.732428319096488, 'C00317'), (4.7320075621676985, 'C00959'), (4.724038738618428, 'C00902'), (4.7226893582572576, 'M00013'), (4.719457009934031, 'C00335'), (4.713077002072657, 'S00531'), (4.708344219222862, 'C00586'), (4.704808977704704, 'C00340'), (4.679944454309073, 'C00503'), (4.677977311213411, 'C00126'), (4.677677789065688, 'C00663'), (4.669945568871681, 'L00468'), (4.668169508306349, 'C00871'), (4.667573324774679, 'S00027'), (4.65892615463554, 'L00107'), (4.658871505039973, 'C00672'), (4.655468314985156, 'T00747'), (4.651352528065002, 'C00529'), (4.651195158440792, 'R00102'), (4.649345606539061, 'C00848'), (4.64857686145496, 'C00502'), (4.647918061737435, 'S00362'), (4.645958833262743, 'C00770'), (4.644651333306495, 'C00657'), (4.644476870134144, 'C00973'), (4.6406483828563605, 'C00152'), (4.637943582561748, 'L00079'), (4.634191742679999, 'C00929'), (4.628380975266612, 'L00212'), (4.620424556900282, 'C00268'), (4.615286373128816, 'C00450'), (4.613840625299196, 'S00807'), (4.612854724731077, 'C00344'), (4.612353364335717, 'S00430'), (4.603955495727359, 'C00917'), (4.600414811506736, 'S00695'), (4.598991436044629, 'C00981'), (4.5980170819892, 'C00216'), (4.595464834163168, 'C00175'), (4.591506557886569, 'C00634'), (4.5900302353289355, 'S00188'), (4.585056898954079, 'L00232'), (4.579444843627686, 'S00609'), (4.577887360590097, 'M00019'), (4.576565169865426, 'S00581'), (4.572789834909381, 'M00215'), (4.5666681666422, 'C00595'), (4.566486728533932, 'S00704'), (4.563358200419826, 'S00038'), (4.55550947752297, 'C00097'), (4.554286186778615, 'C00148'), (4.553998411093113, 'C00023'), (4.551019519035361, 'C00557'), (4.546777295935254, 'M00102'), (4.5440218566786195, 'R00364'), (4.539821229298388, 'S00190'), (4.537025808868588, 'M00010'), (4.534822088637258, 'C00901'), (4.53310157149933, 'C00849'), (4.5320740721314845, 'C00806'), (4.531163429612581, 'C00387'), (4.530263687853827, 'S00234'), (4.524756297747167, 'C00946'), (4.5171733484744125, 'D00484'), (4.511761940606673, 'S00186'), (4.511416858498789, 'C00852'), (4.510683676775355, 'C00713'), (4.502521464669924, 'S00484'), (4.501090748060042, 'C00135'), (4.499454901083269, 'C00886'), (4.498214107150283, 'C00147'), (4.49648387537786, 'C00571'), (4.495528021821143, 'M00003'), (4.493227377860377, 'D00482'), (4.49021913212572, 'C00720'), (4.487287846975261, 'C00068'), (4.486783891829025, 'C00628'), (4.4851837131591346, 'C00233'), (4.4824827802039415, 'C00519'), (4.478057793856523, 'S00547'), (4.475414390161801, 'C00437'), (4.459833540834408, 'C00764'), (4.457617069936985, 'T00780'), (4.447653720585811, 'C00842'), (4.4437919702019935, 'M00231'), (4.439008774174678, 'S00238'), (4.434177480551744, 'C00164'), (4.433726882449377, 'C00029'), (4.430340162204754, 'C00771'), (4.426890828067621, 'C00868'), (4.421299654235609, 'C00995'), (4.421138231835812, 'M00043'), (4.4087127067979655, 'C00516'), (4.399655317133796, 'C00204'), (4.397664769749927, 'S00344'), (4.393830460044083, 'S00290'), (4.391247263795823, 'D00836'), (4.391103271180162, 'C00710'), (4.3909811883764345, 'C00738'), (4.388026206729798, 'C00683'), (4.387083962069127, 'S00677'), (4.386364187509206, 'S00037'), (4.3840336203485055, 'C00875'), (4.377771336524863, 'C00951'), (4.3714480889177025, 'C00476'), (4.369654221580717, 'C00202'), (4.36631955094156, 'M00353'), (4.363365674342595, 'S00920'), (4.3624425648829455, 'T00143'), (4.358159146121466, 'C00145'), (4.357504899670563, 'S00263'), (4.356231832028698, 'C00676'), (4.3550175190581495, 'C00618'), (4.346367050604197, 'S00815'), (4.334692589109646, 'C00828'), (4.328536997115532, 'C00766'), (4.3280966244187775, 'L00366'), (4.325848395673484, 'S00315'), (4.325326229738722, 'M00358'), (4.32513040677442, 'S00206'), (4.311655353573839, 'C00648'), (4.30957970233845, 'M00178'), (4.308636930748612, 'L00106'), (4.304443613510465, 'C00485'), (4.301343325674159, 'L00204'), (4.298222871976903, 'C00869'), (4.296553580074351, 'C00336'), (4.293736559397081, 'D00989'), (4.293196335812592, 'C00200'), (4.286031705780684, 'C00449'), (4.281897497413402, 'M00037'), (4.279133668602918, 'D00051'), (4.278495106075798, 'S00244'), (4.275928641994689, 'C00601'), (4.271021237505886, 'S00296'), (4.25537779658854, 'S00616'), (4.255153228343195, 'S00030'), (4.254995923650732, 'C00066'), (4.250846148722258, 'C00928'), (4.248329222751854, 'S00839'), (4.2482987594868415, 'C00541'), (4.236062391849029, 'M00151'), (4.231443863251888, 'D00336'), (4.228168077627397, 'C00102'), (4.227210287511588, 'D00606'), (4.225251548892595, 'C00389'), (4.224684657910154, 'S00834'), (4.214232793306989, 'T00735'), (4.213796969456451, 'S00797'), (4.213791370168268, 'S00357'), (4.213273294513162, 'C00638'), (4.212842768643286, 'C00404'), (4.210804039111569, 'C00577'), (4.207102635508115, 'T00486'), (4.202594887272415, 'C00694'), (4.20119520084512, 'S00698'), (4.200295089446117, 'S00510'), (4.198667768900065, 'S00634'), (4.1982510577782115, 'T00750'), (4.196417918381997, 'T00673'), (4.195303691733313, 'D00794'), (4.194973660011888, 'C00661'), (4.194813973600684, 'C00261'), (4.192671614191382, 'C00481'), (4.192025635192564, 'C00012'), (4.191403014926434, 'M00259'), (4.184375354215101, 'C00908'), (4.183931059793895, 'S00622'), (4.177333804874681, 'L00252'), (4.177121568481857, 'S00208'), (4.173550598272271, 'C00625'), (4.169896276788307, 'M00222'), (4.168905397042973, 'T00715'), (4.168656463254043, 'C00906'), (4.1684464626368545, 'S00168'), (4.164205903707241, 'S00225'), (4.163563117026731, 'S00354'), (4.16216723633754, 'S00342'), (4.160283004489891, 'S00060'), (4.156254018948921, 'S00437'), (4.151526962850495, 'C00820'), (4.149959847726764, 'C00143'), (4.14995651611914, 'C00377'), (4.145861042867672, 'C00757'), (4.145825505173075, 'C00967'), (4.144223706184284, 'C00060'), (4.144070684433792, 'S00638'), (4.14317812179974, 'C00420'), (4.1391918744503196, 'C00627'), (4.137994172988588, 'M00109'), (4.135575495794013, 'S00446'), (4.134887079587242, 'C00362'), (4.132641325254049, 'D00876'), (4.130009663831209, 'C00810'), (4.12542607761185, 'C00030'), (4.1246474598874245, 'C00575'), (4.1239353674811, 'C00772'), (4.118762950223603, 'S00814'), (4.115861966837293, 'D00061'), (4.114463063934154, 'T00510'), (4.113237029966746, 'C00429'), (4.112787246113427, 'C00606'), (4.11225468790175, 'C00219'), (4.1080443946873055, 'D00825'), (4.104736761398062, 'C00535'), (4.1040485909516855, 'L00393'), (4.101308081809128, 'T00723'), (4.097033246529985, 'C00966'), (4.095561340363156, 'C00551'), (4.094105792799349, 'T00362'), (4.093536844600826, 'D00187'), (4.083314542327797, 'S00865'), (4.080748211628849, 'L00335'), (4.0799475226873385, 'C00473'), (4.075783691862082, 'S00957'), (4.073730804709893, 'R00078'), (4.072415589490587, 'D00013'), (4.068785731542949, 'C00347'), (4.056246610361067, 'T00895'), (4.054200768256248, 'M00007'), (4.04418324100972, 'S00549'), (4.040590136076346, 'C00696'), (4.038125795131393, 'M00206'), (4.034643364595665, 'L00095'), (4.031562354820469, 'C00051'), (4.023410243774128, 'T00745'), (4.0180168172706106, 'L00099'), (4.015967920227925, 'C00783'), (4.012607435282009, 'C00782'), (4.007254262276681, 'C00205'), (3.997917764100009, 'C00384'), (3.988962646090025, 'C00659'), (3.98638961330985, 'S00998'), (3.983299692558984, 'C00376'), (3.983125024431354, 'S00970'), (3.980383471692399, 'S00494'), (3.97898264105506, 'S00156'), (3.9778639446581048, 'S00283'), (3.9745755133003504, 'C00579'), (3.974557383478348, 'S00407'), (3.970415063447871, 'D00864'), (3.9703205356174838, 'M00087'), (3.958837703689375, 'C00976'), (3.955109596229554, 'S00122'), (3.9550310685095997, 'S00217'), (3.954101192117054, 'S00109'), (3.9538946202953484, 'C00158'), (3.9498456074568637, 'C00244'), (3.9477832562741693, 'C00365'), (3.9476361938323814, 'S00473'), (3.946139021312092, 'C00823'), (3.9447803751636554, 'S00250'), (3.9391186437548646, 'S00632'), (3.9379218209672686, 'S00967'), (3.9366836558027534, 'C00578'), (3.936132022723016, 'S00656'), (3.935576457766225, 'C00182'), (3.9185930638087716, 'S00034'), (3.9166445031518435, 'S00152'), (3.909577903891499, 'C00728'), (3.9050355918390043, 'D00348'), (3.8975322854342824, 'S00068'), (3.8892253158436496, 'C00157'), (3.8885713098756427, 'C00196'), (3.887894592517457, 'C00583'), (3.8839756929497358, 'C00942'), (3.876261184411427, 'L00010'), (3.876142180095302, 'S00099'), (3.875482307038612, 'C00288'), (3.870194323556462, 'L00004'), (3.864741552636481, 'S00823'), (3.8476987216761844, 'L00491'), (3.8464412439143922, 'S00123'), (3.845393997493994, 'C00735'), (3.8413407710580065, 'C00615'), (3.839642268582458, 'S00436'), (3.839517495021552, 'L00156'), (3.8359692674547032, 'C00141'), (3.8327245460416086, 'C00822'), (3.8322875218512324, 'L00483'), (3.8310017862915045, 'C00117'), (3.8291353216339026, 'C00326'), (3.827664775325549, 'C00978'), (3.8258883938772072, 'C00178'), (3.820682046847904, 'C00746'), (3.818465793347187, 'M00018'), (3.8179939497508206, 'M00024'), (3.8079922070651255, 'C00280'), (3.807321158037989, 'T00713'), (3.804696253614284, 'C00878'), (3.8041859760819063, 'D00963'), (3.7996501188684046, 'L00415'), (3.789301306295161, 'L00103'), (3.786928752610752, 'S00840'), (3.7861503944412753, 'S00013'), (3.784792656087933, 'D00765'), (3.7806688936381563, 'C00411'), (3.7702399592035163, 'L00092'), (3.768259585642591, 'D00241'), (3.7663361398372217, 'L00254'), (3.7642978601630945, 'M00177'), (3.7579184098878873, 'M00253'), (3.757473895954254, 'C00512'), (3.756583535931543, 'S00003'), (3.7510729602947244, 'S00460'), (3.7441737667671977, 'L00462'), (3.73962537026747, 'C00198'), (3.738628594110959, 'S00721'), (3.7327204671468737, 'C00899'), (3.7304068903533945, 'C00998'), (3.722402190688613, 'S00961'), (3.7202131905459144, 'C00472'), (3.7173827525753897, 'C00460'), (3.7111387822377124, 'L00181'), (3.7088808062228296, 'L00012'), (3.708589174173613, 'T00076'), (3.7055831298001323, 'C00279'), (3.696407057380603, 'S00041'), (3.695367640292164, 'S00568'), (3.6911218324288786, 'S00913'), (3.6896332514226007, 'S00737'), (3.683283867794855, 'S00812'), (3.681674651535827, 'C00109'), (3.680381211948781, 'D00408'), (3.677722390900075, 'C00039'), (3.676960109090307, 'C00166'), (3.6764616112431296, 'D00222'), (3.6752701602813382, 'C00295'), (3.6670013230214162, 'S00075'), (3.6662202330643567, 'C00632'), (3.6635736447538667, 'M00270'), (3.661245376679361, 'C00945'), (3.661208766155449, 'D00088'), (3.6510138928842615, 'C00359'), (3.6477240177127146, 'L00383'), (3.6458961224735758, 'C00154'), (3.6423170596517, 'S00537'), (3.6378400497401806, 'S00024'), (3.632263955303888, 'L00019'), (3.631951772807143, 'S00522'), (3.631256067520249, 'C00793'), (3.6300821900349964, 'L00421'), (3.629294637572908, 'S00254'), (3.621207098149982, 'D00790'), (3.617668164130106, 'C00305'), (3.6148958946632157, 'D00847'), (3.6132443072465863, 'C00118'), (3.6128293034017886, 'L00109'), (3.611290793255621, 'S00015'), (3.6110266592761935, 'S00386'), (3.60894725221651, 'C00099'), (3.596136615046421, 'T00719'), (3.5937447464591488, 'C00745'), (3.593282140252538, 'S00579'), (3.5927268655956928, 'S00182'), (3.588987272436971, 'L00409'), (3.5871053658799736, 'S00277'), (3.583821701521219, 'D00142'), (3.580387660021533, 'S00810'), (3.5792680769926895, 'C00651'), (3.5779626115748693, 'S00610'), (3.5774816967236918, 'S00076'), (3.5753940331805953, 'D00924'), (3.5745731222178305, 'S00456'), (3.5741325319419484, 'S00133'), (3.571241378086744, 'C00867'), (3.565499155235584, 'T00107'), (3.55969701089834, 'T00109'), (3.5573085135881737, 'T00868'), (3.551411940411676, 'C00123'), (3.550607595829472, 'M00009'), (3.546549066741289, 'L00165'), (3.5442989102290925, 'C00133'), (3.534897549789941, 'S00214'), (3.534131219231854, 'D00914'), (3.5316171480597416, 'D00602'), (3.5280573123630887, 'L00239'), (3.5248998686525534, 'L00093'), (3.521386694915634, 'S00798'), (3.51551077035534, 'C00987'), (3.5145098999775213, 'C00568'), (3.5141944547942483, 'T00491'), (3.512909067391236, 'C00354'), (3.5073930610046613, 'D00050'), (3.501580075201847, 'C00264'), (3.494690311082164, 'D00370'), (3.4900846567956316, 'T00674'), (3.489513456676824, 'C00678'), (3.485559609066598, 'D00249'), (3.4839831617331676, 'C00991'), (3.483654439811639, 'C00412'), (3.48335948094485, 'C00890'), (3.4828918533276068, 'D00430'), (3.481124309528546, 'L00293'), (3.480283147979872, 'C00176'), (3.476482111803534, 'S00771'), (3.475413063662269, 'L00337'), (3.469432913191393, 'D00130'), (3.462360767315177, 'C00146'), (3.458241706327338, 'S00515'), (3.4579597517474707, 'S00423'), (3.457543718686373, 'S00145'), (3.4568227565839544, 'L00405'), (3.453591700605025, 'S00026'), (3.450999894440332, 'D00607'), (3.44375021175369, 'D00624'), (3.4406048049272404, 'T00038'), (3.437699083706022, 'S00554'), (3.427057905385419, 'D00074'), (3.4255926251090925, 'C00515'), (3.4172731869066, 'L00045'), (3.4162664406367784, 'L00177'), (3.409304903512245, 'C00862'), (3.4061376710456996, 'M00386'), (3.4023807174832217, 'S00730'), (3.4015073371467937, 'T00549'), (3.399251901199725, 'S00801'), (3.398518778803687, 'C00996'), (3.395967103939225, 'L00143'), (3.3937164960234796, 'L00357'), (3.380638825442559, 'S00395'), (3.3799536051216483, 'D00669'), (3.3771630820647043, 'D00744'), (3.376809412751857, 'M00048'), (3.3763644053778914, 'S00266'), (3.3628616031705243, 'L00001'), (3.357538287226255, 'L00347'), (3.353904006313975, 'L00081'), (3.351381444891109, 'C00240'), (3.3469451828957077, 'S00986'), (3.3444368890102734, 'S00949'), (3.344041754855313, 'D00579'), (3.341913713818223, 'T00039'), (3.3417639018409973, 'S00237'), (3.3415471245377386, 'C00702'), (3.3399990039356595, 'S00192'), (3.337062025794698, 'S00181'), (3.3340717676200535, 'M00014'), (3.333087213930016, 'L00006'), (3.3324513866286987, 'T00572'), (3.3319258827777154, 'C00212'), (3.32919062083651, 'C00556'), (3.3260796066647806, 'S00897'), (3.3163375212347357, 'D00107'), (3.314784497812923, 'M00017'), (3.309024545209121, 'C00589'), (3.3084114178054747, 'S00138'), (3.3082474860429576, 'C00545'), (3.3080797722495947, 'C00413'), (3.30297385145757, 'C00424'), (3.2984007823044372, 'D00406'), (3.2954668973173065, 'T00450'), (3.295191480295419, 'C00184'), (3.292288228683171, 'T00258'), (3.2896266909277734, 'S00367'), (3.2851118648004554, 'T00052'), (3.28462512889446, 'M00096'), (3.281938190651553, 'S00227'), (3.2812096852218664, 'S00566'), (3.2779228962145366, 'D00328'), (3.2734739086652667, 'C00055'), (3.2730414048272305, 'D00808'), (3.2708148868365665, 'C00016'), (3.2633367657985017, 'C00490'), (3.2605101365086293, 'S00424'), (3.257640803602212, 'L00029'), (3.2463932366705786, 'C00992'), (3.2447693637677872, 'D00961'), (3.2350429977701154, 'C00057'), (3.2312786187004887, 'C00837'), (3.226435064763635, 'S00412'), (3.2236019648100283, 'T00239'), (3.223489739167296, 'S00843'), (3.2224740991340406, 'C00573'), (3.2180198570955842, 'D00309'), (3.217525986265024, 'M00038'), (3.217090777338451, 'L00406'), (3.207069478239398, 'D00388'), (3.205073062608644, 'L00046'), (3.2044132980164846, 'D00591'), (3.2021311625234645, 'S00036'), (3.181781775944197, 'D00803'), (3.1754086055860578, 'D00311'), (3.1681569224794135, 'C00681'), (3.1677580261790546, 'T00655'), (3.1596259067830577, 'D00456'), (3.159357145585487, 'S00334'), (3.1527885041785293, 'D00003'), (3.1504611490358316, 'D00673'), (3.146839341121413, 'S00918'), (3.1365175330760113, 'S00601'), (3.134383321272545, 'D00047'), (3.119545585073684, 'D00792'), (3.107995686446202, 'D00664'), (3.0982806408965926, 'C00371'), (3.093500647089228, 'C00064'), (3.0930928624275333, 'D00553'), (3.092849799409955, 'S00932'), (3.091248717815281, 'D00021'), (3.084275804353684, 'D00504'), (3.0809617011818053, 'C00271'), (3.078543485912342, 'C00445'), (3.0698789523140126, 'C00369'), (3.0671192593243077, 'D00860'), (3.0635646369579126, 'M00021'), (3.063256068539606, 'S00482'), (3.0588179267398545, 'T00282'), (3.0543923449135515, 'M00022'), (3.0448680086873976, 'D00053'), (3.0434613925089424, 'S00875'), (3.0422748673908067, 'D00238'), (3.0401715302530876, 'S00045'), (3.0377707235468683, 'C00513'), (3.037758009075647, 'S00197'), (3.0360009883021357, 'C00170'), (3.033604705093743, 'S00055'), (3.0334021720107267, 'T00386'), (3.0302647139439767, 'L00015'), (3.0300625489678135, 'D00716'), (3.0287329226072672, 'L00470'), (3.0285649409751665, 'S00338'), (3.0270821540865684, 'T00106'), (3.0244616173918653, 'C00300'), (3.021706063268891, 'T00385'), (3.018973813713573, 'D00066'), (3.016833427923616, 'C00024'), (3.0155455457845095, 'D00439'), (3.01518822297622, 'D00139'), (3.0144632647114644, 'C00229'), (3.0121930763647056, 'T00513'), (3.0121307738598926, 'L00157'), (3.0083502120934384, 'L00147'), (3.005331018537754, 'L00058'), (3.0014638024122586, 'S00313'), (2.9985368963211503, 'L00213'), (2.998057049066497, 'C00452'), (2.9955793750320305, 'C00209'), (2.9925242310144697, 'C00749'), (2.992203458403898, 'T00045'), (2.988963468876169, 'M00110'), (2.988214055035461, 'S00130'), (2.9879087337326244, 'L00271'), (2.987632675304286, 'D00875'), (2.9857019413752255, 'D00460'), (2.984692198845349, 'C00045'), (2.9833359573085523, 'M00101'), (2.982246418460453, 'C00312'), (2.9812137481259344, 'D00215'), (2.978790187207287, 'D00546'), (2.9783988736293523, 'T00639'), (2.9773957792754224, 'L00369'), (2.9731222797317516, 'C00656'), (2.9714994465065603, 'S00561'), (2.970410750619097, 'T01232'), (2.970267035644138, 'T01233'), (2.9621396375580717, 'L00078'), (2.960746704518562, 'R00172'), (2.9593884068097553, 'T00539'), (2.957942687922357, 'C00391'), (2.9572654428134886, 'D00198'), (2.9567896314904836, 'S00653'), (2.951676065893876, 'T00068'), (2.946832566618807, 'S00023'), (2.944572825715672, 'C00192'), (2.94367622866526, 'S00953'), (2.943441377991591, 'M00086'), (2.9427124146762553, 'S00726'), (2.9425622308805917, 'D00124'), (2.9421617846100347, 'S00643'), (2.9418424378059704, 'M00079'), (2.9384352960398425, 'L00318'), (2.93487621674525, 'L00117'), (2.9334369701370524, 'C00309'), (2.932646729639439, 'S00359'), (2.932420838358321, 'C00652'), (2.932254881013545, 'C00440'), (2.9288331475478704, 'C00872'), (2.928773392559824, 'S00646'), (2.9287104345905384, 'D00515'), (2.927608068365525, 'C00482'), (2.927079370112072, 'C00089'), (2.9233873582771968, 'C00405'), (2.921671662069849, 'C00363'), (2.9211309669067886, 'S00433'), (2.9141763365713027, 'M00242'), (2.9140963453488538, 'D00666'), (2.9107411391478553, 'S00748'), (2.9102171520343716, 'D00539'), (2.90975876993006, 'C00640'), (2.906849358107459, 'S00434'), (2.9060776296496638, 'L00356'), (2.9028158813404494, 'M00129'), (2.9027921419335425, 'M00040'), (2.8998816648958643, 'C00572'), (2.898106040043743, 'L00030'), (2.8961977096875255, 'C00666'), (2.893272690171184, 'S00787'), (2.889107574628419, 'T00347'), (2.8879435795235695, 'D00844'), (2.883762561378716, 'R00376'), (2.8824036588375104, 'C00463'), (2.8794844530874397, 'C00524'), (2.877636906202661, 'C00850'), (2.872142570301104, 'C00349'), (2.869393141238824, 'S00150'), (2.8675700581236154, 'S00139'), (2.866342842667127, 'D00848'), (2.8662173356453335, 'C00546'), (2.8648620138883016, 'D00512'), (2.857670780661083, 'C00744'), (2.8549635057666567, 'S00083'), (2.8542879735251567, 'S00851'), (2.8537926594454497, 'D00242'), (2.851182319358928, 'C00505'), (2.848421592350775, 'S00973'), (2.848074889816524, 'L00256'), (2.844298969768392, 'T00005'), (2.839231716706802, 'S00867'), (2.838154987325201, 'S00448'), (2.8377601686016165, 'L00027'), (2.8375102830215915, 'C00514'), (2.8357933919226843, 'C00479'), (2.8345302533232393, 'C00434'), (2.834263295740269, 'S00595'), (2.8338819650442844, 'C00017'), (2.8298766629415417, 'D00246'), (2.829434427925085, 'R00367'), (2.823668994115506, 'D00134'), (2.8221886272169425, 'D00795'), (2.82151001931462, 'T00066'), (2.8166579956969393, 'D00400'), (2.8165914410511617, 'C00522'), (2.816554132411098, 'C00565'), (2.816500301549241, 'D00855'), (2.815064125557215, 'D00160'), (2.8134015872519162, 'S00572'), (2.809937778628604, 'C00840'), (2.8096294386595, 'C00408'), (2.8086196295917865, 'S00137'), (2.8074852491403828, 'C00881'), (2.807127677002555, 'T00676'), (2.805726524332363, 'D00022'), (2.804638244241902, 'M00026'), (2.8039318325361835, 'S00209'), (2.801057320185892, 'C00059'), (2.800754280916882, 'S00481'), (2.7924522595707297, 'D00747'), (2.7912630088416646, 'S00291'), (2.785282026218868, 'C00547'), (2.7841024980436435, 'T00151'), (2.782146574188328, 'L00152'), (2.7805462225559263, 'M00095'), (2.777351699644916, 'D00210'), (2.777127343982951, 'C00563'), (2.775664021671, 'C00776'), (2.7726405036374047, 'T00148'), (2.7696126088852884, 'C00754'), (2.7648604470118667, 'C00284'), (2.76339264091057, 'S00832'), (2.7633852794241918, 'R00244'), (2.7613919874208603, 'S00442'), (2.761284006918516, 'S00541'), (2.7576866526912984, 'D00916'), (2.7575308098672586, 'D00064'), (2.756495169714555, 'S00988'), (2.755937945144834, 'D00797'), (2.7552425335050863, 'D00117'), (2.752141469244762, 'S00219'), (2.7518928908142275, 'L00153'), (2.7492648102491826, 'L00218'), (2.7461575466697457, 'C00538'), (2.7428612302520077, 'S00151'), (2.7417349724369604, 'L00249'), (2.7415859105388973, 'D00764'), (2.740988787113997, 'R00308'), (2.740828693932607, 'D00364'), (2.7402303518284064, 'S00489'), (2.7392264969847524, 'S00491'), (2.737530217430955, 'D00498'), (2.7361266173865686, 'D00819'), (2.7359926953172433, 'L00003'), (2.7348624894955145, 'T00146'), (2.7347442759212335, 'C00232'), (2.73375501169508, 'D00273'), (2.7320813973999094, 'D00196'), (2.730681884666211, 'C00169'), (2.7295773463052933, 'R00258'), (2.7263947152027184, 'D00416'), (2.725043474605733, 'C00357'), (2.7238872439957924, 'S00054'), (2.7211837827205114, 'S00614'), (2.7186060307384112, 'C00494'), (2.718402201747465, 'R00461'), (2.7180618959606533, 'R00088'), (2.7157029970149105, 'T00067'), (2.7154284985252244, 'C00695'), (2.71459753222568, 'S00358'), (2.712608920582313, 'C00256'), (2.705496490543208, 'R00288'), (2.703386139257016, 'M00090'), (2.702649455629742, 'C00645'), (2.7024879859411888, 'C00863'), (2.7013721205699905, 'C00448'), (2.7006692652250965, 'C00274'), (2.6995152009182193, 'C00936'), (2.6982514170926786, 'S00167'), (2.6966276128272577, 'S00665'), (2.6922083545729096, 'D00663'), (2.690907070000116, 'D00085'), (2.6903126742728802, 'D00185'), (2.6896172422449984, 'D00556'), (2.687812080659502, 'L00034'), (2.6872276121961014, 'S00931'), (2.682216497278244, 'C00931'), (2.6821431020087707, 'T00559'), (2.6821424581896776, 'S00917'), (2.681092862278401, 'C00257'), (2.679878067317773, 'S00962'), (2.6784232312923373, 'C00520'), (2.6768660630273353, 'S00455'), (2.675086644878236, 'S00006'), (2.670408155890841, 'L00434'), (2.669391247137034, 'D00586'), (2.668468046021145, 'S00008'), (2.6680881277671524, 'D00884'), (2.6622681532801478, 'S00232'), (2.661959141529006, 'C00954'), (2.660553123938519, 'S00356'), (2.656047578738147, 'C00277'), (2.655611661557396, 'C00428'), (2.6554288755776425, 'C00919'), (2.65504279517781, 'D00025'), (2.654088277755527, 'D00674'), (2.6539210200901735, 'D00623'), (2.652655917909875, 'S00405'), (2.6494989969908986, 'C00662'), (2.6489859304070986, 'D00583'), (2.648839601662092, 'C00827'), (2.6485795644528416, 'C00730'), (2.6484123954419228, 'D00511'), (2.64540166015439, 'D00533'), (2.6445376420709223, 'S00148'), (2.643761168390727, 'L00061'), (2.6416974713383072, 'C00421'), (2.6412572937219236, 'L00098'), (2.6373968158561882, 'S00503'), (2.6372134250278387, 'S00147'), (2.635765609486912, 'L00442'), (2.6343834418098018, 'S00899'), (2.6339521643644077, 'S00571'), (2.629380056594334, 'S00409'), (2.6290381413064146, 'S00317'), (2.6268227812040115, 'D00317'), (2.626480199359248, 'C00375'), (2.6254957132276164, 'C00588'), (2.624073103417697, 'S00509'), (2.623986274999515, 'S00324'), (2.62358594692653, 'S00216'), (2.6220522641079365, 'D00028'), (2.621639086428739, 'L00159'), (2.617851008762813, 'S00950'), (2.617023666851198, 'S00664'), (2.6156471777904815, 'S00417'), (2.6131859229945853, 'S00043'), (2.6129473858383223, 'L00368'), (2.6120102976116284, 'C00457'), (2.6098737516148, 'C00322'), (2.6089719457130944, 'C00496'), (2.6082211896113385, 'D00555'), (2.6081431035914004, 'T00521'), (2.6081210378345814, 'C00208'), (2.607894967059468, 'T01227'), (2.607792350853268, 'D00694'), (2.607588998909537, 'S00002'), (2.606634165215657, 'C00646'), (2.606294611318997, 'T01171'), (2.6044734655005692, 'L00013'), (2.6033728294385146, 'S00731'), (2.6033247661856715, 'D00760'), (2.6000523826910267, 'D00942'), (2.598435325251054, 'L00402'), (2.5977016472061796, 'S00457'), (2.597229446515254, 'T00652'), (2.5951707699889264, 'C00620'), (2.594626247960041, 'C00353'), (2.594162270051421, 'C00191'), (2.5868834077285072, 'S00177'), (2.5841340157586967, 'S00279'), (2.5826789442192557, 'C00865'), (2.581515638182605, 'S00074'), (2.5813572918466328, 'D00278'), (2.5812822455823015, 'R00473'), (2.580058247668322, 'S00019'), (2.5789055528147213, 'D00678'), (2.5788477983973395, 'L00018'), (2.5779470463942884, 'C00879'), (2.577513144601626, 'R00414'), (2.5754074757961503, 'D00727'), (2.5746478429779933, 'L00190'), (2.5738340349126894, 'T00357'), (2.5729151109442494, 'L00353'), (2.572651855649091, 'S00881'), (2.572449833032975, 'C00716'), (2.5712450887843534, 'C00385'), (2.5709585038107763, 'C00816'), (2.5708381891568384, 'C00398'), (2.5708160047635107, 'S00042'), (2.5704315693141284, 'M00089'), (2.5701244913799233, 'L00463'), (2.569998267953595, 'L00040'), (2.566162484725281, 'L00207'), (2.564984409550763, 'D00341'), (2.564141256330734, 'L00122'), (2.5630821314102166, 'S00404'), (2.5629990906500675, 'S00596'), (2.5618428645207874, 'S00753'), (2.5611026271533768, 'L00051'), (2.5608791275202556, 'D00008'), (2.559799514967592, 'S00944'), (2.5579335189546137, 'L00246'), (2.5526750302336856, 'C00492'), (2.552534077646475, 'R00079'), (2.5506623571899416, 'C00742'), (2.5483903993221313, 'L00498'), (2.5475973305400847, 'S00976'), (2.5458533751880057, 'C00025'), (2.5450087090477616, 'L00474'), (2.5412707214591004, 'S00066'), (2.5412382054635394, 'L00344'), (2.54029832943319, 'L00251'), (2.540231204887423, 'L00049'), (2.538577914911089, 'D00413'), (2.5382359412621, 'L00087'), (2.5356197675927956, 'D00705'), (2.5343348148060163, 'S00746'), (2.533455371999115, 'C00821'), (2.5312671870097656, 'R00134'), (2.5295999231461264, 'D00131'), (2.527982756088811, 'C00596'), (2.5278157063358337, 'S00884'), (2.5276349308286568, 'C00826'), (2.527075605781973, 'S00115'), (2.526792733525782, 'C00877'), (2.5259531319414057, 'M00099'), (2.525693739881788, 'T00201'), (2.523867528810102, 'D00191'), (2.5213942982726656, 'L00237'), (2.520734154740612, 'T00670'), (2.5161954979184156, 'L00260'), (2.5151774520070735, 'S00207'), (2.5148455537454106, 'T00672'), (2.5138888632609384, 'L00437'), (2.5131973830010033, 'C00323'), (2.511186640034214, 'D00943'), (2.510901705436298, 'C00367'), (2.510405939704971, 'D00116'), (2.5097667798413963, 'L00386'), (2.5094413096191435, 'L00009'), (2.5086429857154746, 'D00214'), (2.5078918799241814, 'M00004'), (2.5058104052548735, 'D00930'), (2.505407618529782, 'M00249'), (2.5036980279897256, 'S00264'), (2.503663714770736, 'L00308'), (2.501740337389742, 'S00989'), (2.498298820320059, 'T00571'), (2.4982317371916993, 'S00850'), (2.497374482166356, 'S00995'), (2.4956911916902684, 'L00071'), (2.493070834527929, 'S00675'), (2.4928656016284223, 'L00298'), (2.4914362126043157, 'C00418'), (2.490998093255568, 'C00113'), (2.489682547741621, 'L00464'), (2.48758667162549, 'S00822'), (2.48538427438767, 'D00915'), (2.4852592325451495, 'S00692'), (2.4809106017774694, 'S00097'), (2.4806511157935525, 'S00729'), (2.4803823221167023, 'S00921'), (2.479750264325529, 'M00084'), (2.4792036256961194, 'D00564'), (2.477286906127228, 'D00935'), (2.4756139333415654, 'S00360'), (2.47555168198253, 'S00984'), (2.4753917905679934, 'S00451'), (2.471106513067811, 'L00276'), (2.4685525891067703, 'S00947'), (2.4665744108017726, 'S00414'), (2.466235082042484, 'L00363'), (2.46581229249625, 'L00267'), (2.464503451606081, 'L00325'), (2.4644916566769446, 'T00520'), (2.46311510719246, 'C00125'), (2.4612954201848827, 'L00391'), (2.4597578746938153, 'D00343'), (2.4594925684640545, 'S00951'), (2.459244611295096, 'T00195'), (2.4590747334987055, 'C00835'), (2.4530757777344507, 'L00452'), (2.452486734585979, 'S00803'), (2.45146883387385, 'D00565'), (2.448368659833742, 'S00111'), (2.4479294030840095, 'S00907'), (2.447871766502891, 'L00457'), (2.447457903372775, 'S00607'), (2.447093001106578, 'L00441'), (2.445646340330841, 'L00413'), (2.44106754362445, 'S00555'), (2.4396640797323204, 'S00683'), (2.4389403027010053, 'D00042'), (2.432357721879332, 'T00679'), (2.431134053638897, 'T00322'), (2.430195354538818, 'M00265'), (2.429823026988242, 'D00691'), (2.428163787573313, 'D00509'), (2.4271547303227, 'D00668'), (2.426235420537547, 'T00369'), (2.4262188909780225, 'D00071'), (2.426118270001786, 'C00265'), (2.423980273030703, 'S00466'), (2.4238041804602637, 'S00333'), (2.4220327267055928, 'C00897'), (2.4217535618498203, 'S00157'), (2.4210538408680105, 'S00021'), (2.420846135830186, 'L00440'), (2.420781147376488, 'C00048'), (2.420609075759976, 'C00734'), (2.4204925651998757, 'L00073'), (2.4199932544701843, 'D00650'), (2.4197659936123888, 'R00198'), (2.4197095685596803, 'T00078'), (2.4196375908749754, 'C00587'), (2.419633785453374, 'D00502'), (2.419491955193709, 'T00693'), (2.419481850280642, 'T00688'), (2.419280203696213, 'C00083'), (2.4190785140493722, 'S00806'), (2.4184684904274247, 'S00169'), (2.418157784870514, 'C00913'), (2.4166148880223712, 'R00196'), (2.41569497050223, 'D00449'), (2.414769018181232, 'R00252'), (2.4136287634358524, 'D00104'), (2.412848043842394, 'M00315'), (2.410571077214416, 'L00108'), (2.4096790477125785, 'T00614'), (2.4083736677903014, 'D00585'), (2.4072813795448953, 'D00067'), (2.4047102150059882, 'L00179'), (2.404204762648883, 'L00113'), (2.4026706879181976, 'D00090'), (2.402420274697321, 'C00177'), (2.401193656850146, 'S00220'), (2.4002971613039312, 'S00766'), (2.397689383211928, 'S00420'), (2.3960434347945725, 'T00079'), (2.3956493141004693, 'T00667'), (2.390094889501472, 'D00919'), (2.3894085696439262, 'S00429'), (2.3892041880409005, 'D00933'), (2.3872871992545015, 'D00629'), (2.385761409707961, 'D00065'), (2.3824475226708395, 'R00052'), (2.3793363761202393, 'L00127'), (2.378800753619226, 'S00010'), (2.3786289280713158, 'C00082'), (2.375790781499194, 'S00120'), (2.375757694993851, 'C00465'), (2.371689494505711, 'L00075'), (2.371675372536691, 'T00111'), (2.3715654358322946, 'C00808'), (2.3707549088983764, 'T00468'), (2.37022581289246, 'D00112'), (2.3698820542465104, 'L00380'), (2.3696903053154887, 'D00145'), (2.3680243373965317, 'D00368'), (2.367862439667719, 'C00841'), (2.3676866104814516, 'L00287'), (2.366392459268334, 'D00755'), (2.36508647816515, 'S00280'), (2.364831269203096, 'L00418'), (2.3624494717658444, 'S00390'), (2.3620381900945646, 'L00472'), (2.3602651608308705, 'S00480'), (2.3593876359408865, 'C00649'), (2.3588801001954436, 'R00178'), (2.357550016555196, 'L00244'), (2.3544696837661574, 'D00592'), (2.3543869180327315, 'R00486'), (2.3523673239487657, 'D00637'), (2.352317221842034, 'M00175'), (2.3522188606718655, 'S00251'), (2.35160742598712, 'S00732'), (2.3515902490029768, 'C00708'), (2.3507411869821233, 'S00270'), (2.349200781749326, 'L00110'), (2.349112244491538, 'L00238'), (2.349058766722607, 'D00634'), (2.346840510011392, 'D00492'), (2.345431370700925, 'T00489'), (2.345357670281326, 'L00426'), (2.3452982398884537, 'S00229'), (2.3450149296490572, 'S00025'), (2.344875140424937, 'S00176'), (2.3445226105372434, 'P01050'), (2.3432485693227694, 'M00078'), (2.341899965234511, 'S00033'), (2.3416434897140004, 'D00802'), (2.340302493951823, 'S00325'), (2.3400806242545293, 'L00362'), (2.339672376966857, 'C00156'), (2.338465586529532, 'R00005'), (2.3381998846958196, 'L00275'), (2.3379380796925204, 'L00446'), (2.3378283980496875, 'T00687'), (2.3373606902560375, 'L00358'), (2.3354746759693166, 'D00094'), (2.334318265905915, 'C00167'), (2.3338235168155883, 'T00360'), (2.332460482041213, 'T00272'), (2.3304888506433197, 'R00084'), (2.3298532200390234, 'M00220'), (2.3286942498359644, 'M00186'), (2.328598016068751, 'C00493'), (2.327782764948865, 'D00480'), (2.326694361395213, 'D00079'), (2.3247273124653915, 'T00418'), (2.324484611544534, 'S00715'), (2.321855136906409, 'T00047'), (2.3212806965744237, 'D00948'), (2.318345433770759, 'P05030'), (2.3166449715113693, 'S00185'), (2.316259819602053, 'L00294'), (2.3150452339844945, 'C00705'), (2.314587576532603, 'L00195'), (2.3144509414919474, 'D00728'), (2.3130158604261966, 'D00617'), (2.3114122037687244, 'D00722'), (2.3100475301540997, 'C00504'), (2.3083409980392027, 'T00518'), (2.3081226542355946, 'T00857'), (2.3068980530155536, 'R00132'), (2.3054915440349397, 'C00707'), (2.3046813622202547, 'T00896'), (2.3019366621113897, 'D00440'), (2.30070843660814, 'L00199'), (2.300384618819771, 'T00581'), (2.2968096113029013, 'C00984'), (2.2965240308998895, 'D00224'), (2.2960562962589517, 'S00693'), (2.295771976262878, 'S00778'), (2.292697860412803, 'S00092'), (2.2925558139349156, 'S00862'), (2.2922064714395263, 'T00299'), (2.2907608699726203, 'S00880'), (2.2906071918793374, 'D00475'), (2.2888599293664322, 'C00168'), (2.2868361683328433, 'S00273'), (2.286331170766879, 'D00758'), (2.285477260337496, 'S00895'), (2.2850862594147237, 'L00328'), (2.283011257195964, 'L00259'), (2.282746757807095, 'C00189'), (2.28230075152253, 'D00209'), (2.281356950168144, 'L00020'), (2.278288406317871, 'R00105'), (2.2776027458072345, 'T00677'), (2.2771289822304075, 'S00411'), (2.2758338408514573, 'L00423'), (2.275419299154261, 'D00906'), (2.275133979014876, 'T00678'), (2.2723275600129407, 'R00183'), (2.2714893651961456, 'D00926'), (2.2712649733535786, 'D00908'), (2.2693515680085437, 'T00568'), (2.2674619797364755, 'D00874'), (2.2673288008757044, 'L00026'), (2.2672581275837156, 'M00238'), (2.2667918634875144, 'D00587'), (2.2634800499590897, 'R00092'), (2.263386145117101, 'C00619'), (2.2630556267075668, 'M00071'), (2.262790442992631, 'S00348'), (2.261542601829443, 'T00192'), (2.2598070059561066, 'D00235'), (2.2592590978885867, 'D00188'), (2.25913263444891, 'S00500'), (2.2588428678366816, 'T01168'), (2.258462443167698, 'T01164'), (2.256972084325345, 'M00008'), (2.2568355963930515, 'L00215'), (2.25608987718873, 'R00487'), (2.2558755850442567, 'S00700'), (2.254474137794491, 'S00093'), (2.2535541967719785, 'S00257'), (2.2519536908791893, 'D00175'), (2.2515635488377725, 'C00613'), (2.2510999935618, 'L00365'), (2.2500009261663503, 'T00235'), (2.248628390513386, 'D00483'), (2.2477517362160904, 'S00598'), (2.2476200440777077, 'D00740'), (2.2464261388882982, 'S00464'), (2.2463351809272094, 'D00108'), (2.244723948963066, 'L00068'), (2.2441547384971754, 'C00507'), (2.244098909548546, 'D00743'), (2.242439460450361, 'L00112'), (2.242034364661366, 'S00014'), (2.2417369335097477, 'D00414'), (2.24169468021536, 'C00747'), (2.2414216840329924, 'S00938'), (2.2413868450549246, 'R00100'), (2.240690108201421, 'C00510'), (2.2339731836003156, 'L00301'), (2.2328460112821022, 'D00233'), (2.2311514323602744, 'L00014'), (2.229716847314187, 'R00302'), (2.229464147927897, 'C00714'), (2.228169970918963, 'R00170'), (2.2259291640146395, 'C00042'), (2.225849287318332, 'R00300'), (2.2239911380270287, 'S00319'), (2.2232882206668627, 'L00166'), (2.2230367378482843, 'S00623'), (2.2224227046784955, 'T00050'), (2.222248898704815, 'S00777'), (2.221715648296254, 'T00238'), (2.2217006678574847, 'R00426'), (2.22104624555356, 'S00512'), (2.215746682887785, 'M00391'), (2.2137081168278026, 'T00537'), (2.2135923663551367, 'D00226'), (2.2103599980867727, 'D00806'), (2.2082002675334937, 'L00141'), (2.2077092894108694, 'R00076'), (2.206696122398563, 'R00417'), (2.203818551641299, 'S00952'), (2.2024590282736844, 'L00223'), (2.2017743398690333, 'L00205'), (2.2015218049544365, 'S00901'), (2.2009953326496956, 'S00987'), (2.200860970661882, 'T00019'), (2.1986006816437804, 'T00680'), (2.197779873969624, 'C00318'), (2.1950631249899857, 'L00180'), (2.1948472343349468, 'C00548'), (2.194832271079984, 'M00006'), (2.191532848516968, 'T00231'), (2.1912104424935097, 'D00077'), (2.1882190485782043, 'D00689'), (2.187704330580384, 'S00441'), (2.1874304451442197, 'D00461'), (2.185864338789713, 'D00401'), (2.185663124036415, 'C00756'), (2.184908763241678, 'D00044'), (2.184907234671758, 'T00451'), (2.184869176022187, 'S00170'), (2.1845611897044077, 'T00640'), (2.1839814696755493, 'S00020'), (2.182752849233699, 'L00291'), (2.1823765941411004, 'S00086'), (2.1823036119675376, 'T00101'), (2.181846074305584, 'S00524'), (2.181116263990104, 'S00183'), (2.179095236098235, 'L00091'), (2.1788715197427306, 'S00636'), (2.1780792514236826, 'L00042'), (2.176997158345606, 'L00021'), (2.176961948327, 'L00039'), (2.17684888155796, 'D00777'), (2.1762860878039234, 'L00234'), (2.175346327798447, 'S00044'), (2.1749445968190453, 'L00101'), (2.1736009641092764, 'D00002'), (2.1730555997288983, 'D00892'), (2.171321300309054, 'S00160'), (2.1710856494051356, 'C00075'), (2.1707062348242863, 'L00064'), (2.1705808721658384, 'L00214'), (2.1698817744799186, 'T00455'), (2.168321639074614, 'L00047'), (2.167395851527863, 'L00043'), (2.166328961338588, 'S00230'), (2.1649842942039177, 'L00222'), (2.1641105579360924, 'S00736'), (2.1636100322262433, 'C00379'), (2.1636010770389404, 'D00048'), (2.1635569352631525, 'R00436'), (2.1627740674561062, 'M00381'), (2.162429924854341, 'R00271'), (2.160838879655378, 'D00980'), (2.160133894420994, 'L00401'), (2.15947183526253, 'T00890'), (2.157980987597671, 'R00068'), (2.1577730103856037, 'S00372'), (2.1574693120966, 'S00578'), (2.156625987454172, 'T00234'), (2.155784283917339, 'R00392'), (2.154576099408298, 'M00351'), (2.1535071032059063, 'T00353'), (2.15304710728124, 'T00241'), (2.1529945997839945, 'P04028'), (2.1523712519373137, 'T00848'), (2.1523293068769807, 'D00778'), (2.150761736840145, 'T00801'), (2.150561010057083, 'D00129'), (2.147569773553397, 'S00200'), (2.147253638313205, 'S00440'), (2.1460428724634424, 'S00385'), (2.145936819793115, 'L00461'), (2.1454427025389915, 'M00190'), (2.145377053234015, 'D00324'), (2.1415384866729634, 'T00654'), (2.140972232900081, 'S00465'), (2.1406085082262183, 'T00227'), (2.139842883111168, 'D00850'), (2.1395569418407976, 'T00251'), (2.137486433383461, 'S00159'), (2.137037777987473, 'C00800'), (2.1354692583481216, 'S00022'), (2.134558408362254, 'S00784'), (2.1340829477959704, 'L00326'), (2.1332861484285854, 'M00083'), (2.131308419041066, 'D00626'), (2.1310661040419623, 'L00355'), (2.1294431739879784, 'T00683'), (2.128064731571416, 'T00055'), (2.127964820352256, 'T00337'), (2.126079147611526, 'T00427'), (2.1251700268311393, 'T00207'), (2.125023915683154, 'L00484'), (2.124783027832111, 'S00071'), (2.123660805323749, 'R00418'), (2.122981743420665, 'T00665'), (2.120103988155448, 'C00636'), (2.120067983941013, 'L00377'), (2.113428142204907, 'S00091'), (2.1113157112189587, 'S00297'), (2.1105027107650547, 'T00692'), (2.109208712911802, 'D00633'), (2.106186612540968, 'T00030'), (2.105872529260897, 'T00607'), (2.1043684716841713, 'S00705'), (2.1024282412353013, 'S00134'), (2.101827610523242, 'L00053'), (2.099300820531926, 'D00750'), (2.0982678787444002, 'C00285'), (2.0980096461797775, 'S00788'), (2.0979259389633165, 'S00323'), (2.0973329105148926, 'D00058'), (2.095319730395414, 'P_831'), (2.0935134855701896, 'L00123'), (2.0899112679468983, 'T00037'), (2.0898714236844023, 'T00859'), (2.0896020196494374, 'S00619'), (2.088690584650843, 'S00841'), (2.088545118374729, 'M00145'), (2.0865397279867395, 'T00503'), (2.0863072726242917, 'C00873'), (2.0854423897262473, 'S00691'), (2.0831999534307557, 'T00600'), (2.083175472690805, 'D00040'), (2.080260771768137, 'S00914'), (2.080086552135634, 'D00479'), (2.080007724268705, 'D00709'), (2.077996599614287, 'D00831'), (2.077861378732656, 'D00682'), (2.0778135008550143, 'R00479'), (2.077194439373983, 'T00690'), (2.0767389349473704, 'R00215'), (2.0765497856034614, 'C00486'), (2.074722005727607, 'D00506'), (2.0745402462932123, 'S00681'), (2.0743147681723393, 'D00922'), (2.0735810026293513, 'S00896'), (2.07351109910964, 'C00916'), (2.073484691948837, 'T00223'), (2.073091258327359, 'S00233'), (2.0723948318499854, 'R00449'), (2.0718937578541645, 'T00383'), (2.070776133233777, 'S00829'), (2.070728106167382, 'R00126'), (2.0692520017481293, 'T00509'), (2.0692187420478105, 'S00718'), (2.0684172971432098, 'T00545'), (2.068248880298593, 'T00237'), (2.0674086124615054, 'D00726'), (2.0666941294449805, 'T00314'), (2.06420876757062, 'T00453'), (2.063910925788194, 'T00671'), (2.063240477712285, 'S00231'), (2.062441190938343, 'M00027'), (2.062025147008297, 'C00839'), (2.0606403299149103, 'S00856'), (2.0592006715015563, 'T00114'), (2.0591055462583103, 'T00219'), (2.0590698027076852, 'R00277'), (2.058545669277905, 'R00072'), (2.057939189694211, 'S00909'), (2.0575698191953644, 'S00701'), (2.055707893471517, 'C00107'), (2.0556806353810333, 'M00295'), (2.055481951339543, 'S00350'), (2.05509691415589, 'M00165'), (2.053955770498186, 'C00955'), (2.0538641529909016, 'L00290'), (2.053230591695975, 'T00044'), (2.05322902815484, 'D00301'), (2.0530277812529194, 'R00317'), (2.052784297563438, 'L00320'), (2.0524599255255334, 'T00463'), (2.051084113583415, 'M00077'), (2.049953121091211, 'S00004'), (2.049427450445964, 'T00666'), (2.048834132493484, 'S00355'), (2.0485194838693985, 'R00422'), (2.0481283935485326, 'R00155'), (2.0463915157206993, 'T00374'), (2.045166723409495, 'T00869'), (2.0423982077679455, 'T00221'), (2.0412079186914607, 'S00246'), (2.039568542063441, 'L00370'), (2.039503918427542, 'L00172'), (2.0383236296425666, 'S00908'), (2.038298361808688, 'L00395'), (2.0372929067435304, 'D00909'), (2.037194685999372, 'T00194'), (2.036550136640318, 'S00878'), (2.036438034433087, 'C00439'), (2.0357562524891195, 'R00063'), (2.0355840769742, 'T00536'), (2.0344581651047053, 'S00978'), (2.034200988678932, 'T00854'), (2.0305822568146525, 'S00364'), (2.029830941764919, 'L00373'), (2.0277287632338656, 'M00093'), (2.0275452151649254, 'S00163'), (2.0274844233725, 'R00466'), (2.0268518584701547, 'D00137'), (2.0263188676361836, 'T00669'), (2.0259872585684855, 'S00958'), (2.025697858598461, 'M00232'), (2.025527380200587, 'T00872'), (2.0254255753454324, 'D00936'), (2.0244706810334083, 'R00446'), (2.0236264864851496, 'S00416'), (2.0223198590999925, 'L00008'), (2.0212556749287014, 'D00754'), (2.0193263186241093, 'L00038'), (2.0192177826031417, 'D00766'), (2.0175382866411784, 'L00139'), (2.0169590242073876, 'S00765'), (2.0167341721281704, 'T00765'), (2.0159874128704334, 'L00228'), (2.0158323280121255, 'C00569'), (2.0140984726542435, 'R00021'), (2.0118212783077922, 'P04024'), (2.008870288627703, 'S00073'), (2.008118231276661, 'T00608'), (2.007898987273067, 'T00414'), (2.0076656654145175, 'S00562'), (2.0075377533321506, 'L00283'), (2.0074395316894527, 'T00224'), (2.0062160704562633, 'T00240'), (2.0037585873401493, 'D00425'), (2.0028224536855874, 'M00002'), (2.0027669534378414, 'C00719'), (2.0026885513427706, 'T00836'), (2.0026514557348967, 'L00448'), (2.000331372463421, 'C00531'), (2.00000934611883, 'P01077'), (1.9999825634162518, 'T00542'), (1.999962141463309, 'D00283'), (1.9997583494928202, 'R00029'), (1.999447760453855, 'T00883'), (1.9984356214944372, 'D00828'), (1.997896261294207, 'T00358'), (1.9972125388122886, 'S00756'), (1.997097510110061, 'D00968'), (1.9964930521043536, 'D00665'), (1.9961923908725792, 'M00092'), (1.9960167660670092, 'S00278'), (1.9951574732816213, 'C00124'), (1.99442737696888, 'D00529'), (1.9944056481946253, 'L00385'), (1.9933179031625305, 'L00257'), (1.992218173568635, 'R00255'), (1.9905385007775083, 'L00025'), (1.9897133495675237, 'T00294'), (1.9891256360666125, 'S00426'), (1.9881420787570248, 'S00275'), (1.9879620034129586, 'P_1'), (1.9875872692210559, 'T01280'), (1.9866735093702637, 'T00476'), (1.9854851920482748, 'T00305'), (1.980997974588816, 'R00425'), (1.9785031539850155, 'D00720'), (1.9775183308355684, 'T00889'), (1.9765027663473635, 'T00054'), (1.9764966495556389, 'P_309'), (1.976152326763087, 'L00372'), (1.9755321892040423, 'T00441'), (1.9752005470253202, 'D00211'), (1.974386228466226, 'C00054'), (1.9737989046460693, 'T00236'), (1.9712137981481674, 'T00117'), (1.9708350268816497, 'L00367'), (1.970164260614439, 'C00576'), (1.9700100113269559, 'L00433'), (1.9692321063641223, 'C00453'), (1.9687267458992779, 'S00184'), (1.9678453571331447, 'T00484'), (1.9677616493439232, 'L00480'), (1.9674062295024284, 'C00779'), (1.966953150139529, 'T00115'), (1.9648250831379512, 'R00231'), (1.9646024390158052, 'C00213'), (1.9637495386691648, 'L00412'), (1.9634933765037983, 'L00329'), (1.9609212839235095, 'S00703'), (1.960828208757938, 'T00342'), (1.9601116857340917, 'L00250'), (1.9597614197793036, 'L00050'), (1.9590031987719847, 'D00016'), (1.958743277862844, 'C00542'), (1.95766751577565, 'C00629'), (1.956867514553894, 'T01120'), (1.9560414457447255, 'L00126'), (1.9557092131614893, 'S00031'), (1.9542548900316223, 'C00994'), (1.9526031592880473, 'L00216'), (1.9525799858371187, 'C00758'), (1.9518883077544547, 'T00065'), (1.9518599010863078, 'C00883'), (1.9516283842609596, 'T00118'), (1.9514096063171216, 'S00146'), (1.9510547131176392, 'T00196'), (1.950760796055215, 'D00557'), (1.9489671735770793, 'T00048'), (1.9461433984313563, 'D00704'), (1.9460472768606494, 'L00265'), (1.945030380308815, 'D00657'), (1.9447100266669564, 'M00292'), (1.94407192815472, 'T00084'), (1.9437732759496475, 'L00467'), (1.9429824461836127, 'S00112'), (1.942898325889801, 'T00175'), (1.941987473561684, 'D00544'), (1.941503871916301, 'D00424'), (1.9402694072048394, 'S00049'), (1.9396197650886369, 'S00795'), (1.9393945925587988, 'R00213'), (1.9380531579380373, 'P_149'), (1.9374108149639522, 'T00802'), (1.9370192896208598, 'L00354'), (1.9364668297283103, 'D00426'), (1.9344609687468355, 'T00641'), (1.9337133638287058, 'D00867'), (1.9336947309305215, 'S00780'), (1.9324039772308395, 'C00585'), (1.931269538546885, 'S00999'), (1.9306894671542745, 'T00324'), (1.9306378435223606, 'T00384'), (1.930393838711602, 'C00489'), (1.9287569411567147, 'T00123'), (1.9270483779842162, 'D00696'), (1.9257508293601868, 'T00367'), (1.9243115535389488, 'T00371'), (1.9238864309494486, 'L00262'), (1.9237522675970398, 'S00224'), (1.9205142929281878, 'D00785'), (1.9203789385231151, 'T00377'), (1.9201161485677574, 'D00026'), (1.9200145666062136, 'C00210'), (1.9193860546398505, 'L00140'), (1.9179470647959516, 'S00933'), (1.916388373269368, 'S00752'), (1.9162341530495504, 'T00603'), (1.9155679705676738, 'S00316'), (1.9147549727820767, 'D00616'), (1.9137697906295588, 'C00252'), (1.9131017482953983, 'T01214'), (1.912582102014966, 'D00551'), (1.9117477131196021, 'S00570'), (1.910807854607036, 'T00699'), (1.9107832301626846, 'P_557'), (1.9097528975042704, 'S00450'), (1.905635435995006, 'M00226'), (1.9046261550908081, 'C00199'), (1.9046204750902704, 'R00136'), (1.9039346127603702, 'S00940'), (1.903230921645753, 'T00311'), (1.9021342015762288, 'T00681'), (1.9013011828525364, 'D00099'), (1.8992839877471983, 'L00229'), (1.8990757016530948, 'T00458'), (1.8989167491109806, 'T00628'), (1.8986523210014588, 'D00489'), (1.8973540458472158, 'T00644'), (1.8962504450997548, 'T00534'), (1.8957199003633918, 'T00656'), (1.8952110487750666, 'S00336'), (1.895116798002024, 'D00788'), (1.8942645388315331, 'L00240'), (1.8931289343328093, 'M00371'), (1.8924690974188072, 'P_372'), (1.8913639955501498, 'C00330'), (1.8911527724495547, 'T00428'), (1.890264190179636, 'S00943'), (1.8896815117244794, 'L00304'), (1.8894084648204674, 'D00703'), (1.889126913736884, 'L00342'), (1.888978400058101, 'C00785'), (1.8888834665451957, 'D00702'), (1.8874726180843782, 'M00105'), (1.8869013701823207, 'D00007'), (1.8863311594971108, 'S00800'), (1.8848901724336635, 'T00866'), (1.8835712265521247, 'T00755'), (1.8826242726262947, 'T00701'), (1.882288398885015, 'S00966'), (1.88212389286539, 'T00110'), (1.8814515755436423, 'T00505'), (1.8812525259477848, 'D00547'), (1.8810451774755956, 'C00382'), (1.8806267092430582, 'D00818'), (1.8798676780658745, 'P_879'), (1.8792090925547855, 'R00208'), (1.8784748679964707, 'D00228'), (1.8780256389274315, 'L00023'), (1.8778899778397011, 'S00530'), (1.8768960137313722, 'D00859'), (1.876294718049225, 'C00884'), (1.8758588704662864, 'S00347'), (1.8745367377445705, 'D00613'), (1.8739747375867357, 'T00317'), (1.8734565828052514, 'T00479'), (1.8734207108957839, 'S00594'), (1.873357043198898, 'P_294'), (1.8722575770615726, 'C00470'), (1.871141773218218, 'T01201'), (1.8703194169219435, 'S00563'), (1.8695116613753824, 'T00036'), (1.8687852411939039, 'C00680'), (1.8680291094886017, 'P_1338'), (1.8657008967803574, 'R00140'), (1.8638007075288225, 'S00773'), (1.8635807737428682, 'D00375'), (1.8632611947304705, 'T00834'), (1.8625565740610466, 'D00863'), (1.8619770314186797, 'R00107'), (1.8608910443516626, 'M00056'), (1.8592536371677015, 'L00343'), (1.8581513586120655, 'T00186'), (1.8577633207505573, 'L00175'), (1.8567546445517542, 'T00809'), (1.8564457932787615, 'T00729'), (1.85318564143911, 'R00427'), (1.8528452631753918, 'C00263'), (1.8523634492599605, 'D00393'), (1.8516302157127547, 'L00496'), (1.848519482990814, 'T00350'), (1.8470077810961878, 'T00525'), (1.846848803495917, 'M00104'), (1.8450489054299615, 'T00611'), (1.844683451228124, 'R00475'), (1.843790547635824, 'S00728'), (1.843743576654041, 'S00762'), (1.8436543753118972, 'S00166'), (1.8436312856311265, 'M00155'), (1.8429918211600806, 'D00653'), (1.84016960206496, 'D00245'), (1.8398844162839283, 'D00023'), (1.8395913503074068, 'S00649'), (1.8394690928108512, 'P04002'), (1.839249682590762, 'T00827'), (1.8379376637522307, 'S00904'), (1.8363328163267916, 'L00201'), (1.835226269438639, 'L00340'), (1.832517103309973, 'D00125'), (1.8317910361045875, 'S00640'), (1.8309614961900609, 'D00149'), (1.8303374102814902, 'D00152'), (1.8297132564141987, 'T00435'), (1.8270420518343675, 'D00662'), (1.8270076804837543, 'S00474'), (1.8263337851975356, 'C00803'), (1.8255827190088074, 'S00318'), (1.8233680554973746, 'P_1922'), (1.8232600253773723, 'D00690'), (1.823168166133044, 'S00479'), (1.823049197911917, 'T00561'), (1.822335624006742, 'T00129'), (1.8218061052997498, 'D00072'), (1.821385261719835, 'S00063'), (1.8207891671066205, 'P_1334'), (1.819867737888887, 'T00334'), (1.8188340855358678, 'M00301'), (1.8187439175500544, 'D00473'), (1.8179017821862018, 'S00403'), (1.8172596354785129, 'S00018'), (1.8167716922366535, 'T00638'), (1.8158185707520853, 'S00396'), (1.8139832837243417, 'S00857'), (1.8138918287894723, 'S00165'), (1.8136261481852984, 'L00485'), (1.8133469868869407, 'C00960'), (1.8121428763193077, 'T00751'), (1.8119732311777395, 'T01161'), (1.8106703475918822, 'S00991'), (1.8089139364011737, 'T00216'), (1.8086638139466265, 'T00469'), (1.8081976802983648, 'L00466'), (1.8079937210572956, 'D00601'), (1.807704867837978, 'S00061'), (1.8061070441638412, 'D00114'), (1.804101450753447, 'P_1425'), (1.8031367562146126, 'L00387'), (1.802602209612045, 'T00527'), (1.8014254781292567, 'P02035'), (1.8013158615612093, 'S00968'), (1.801274245349421, 'S00514'), (1.8010568670061762, 'S00222'), (1.8000816866569818, 'T00284'), (1.798938359728204, 'S00546'), (1.7971554164837693, 'L00299'), (1.7965124842463884, 'S00678'), (1.7957966237397598, 'S00859'), (1.795553703738603, 'D00194'), (1.7952957575741202, 'T00397'), (1.795236953670505, 'L00361'), (1.7939360934449202, 'T00184'), (1.7937665467147257, 'D00732'), (1.791752652603538, 'L00404'), (1.7913150947975052, 'S00228'), (1.7910656437078714, 'D00879'), (1.7904518157704845, 'T00596'), (1.7904020143493815, 'P01048'), (1.7902190472870105, 'T01035'), (1.7899701326115949, 'T01283'), (1.7890584224250563, 'M00203'), (1.7888537152989727, 'D00163'), (1.78859936231316, 'D00905'), (1.7884780969447978, 'T00430'), (1.7883886553288588, 'C00207'), (1.7877218496959904, 'L00389'), (1.7870958499900884, 'L00136'), (1.786955457204815, 'D00331'), (1.7867243814037985, 'T00794'), (1.7854853497442604, 'P_583'), (1.7854519489218565, 'L00360'), (1.7847977347106432, 'D00083'), (1.7836053093342974, 'L00247'), (1.7824607035100222, 'S00590'), (1.7809318794600941, 'L00411'), (1.7807926605236841, 'P05022'), (1.7797586563167145, 'T00962'), (1.7796375266267939, 'S00658'), (1.779520297942407, 'D00141'), (1.7792388643084256, 'S00101'), (1.7791125575048503, 'C00958'), (1.778736920143087, 'D00431'), (1.7777593290680846, 'T00454'), (1.7771948674751095, 'S00635'), (1.7767104065589974, 'R00410'), (1.7752918122046437, 'S00154'), (1.7736775023893023, 'M00201'), (1.7727982065741321, 'S00874'), (1.7721757508472202, 'C00162'), (1.7699380182145725, 'S00478'), (1.7693918965870714, 'D00605'), (1.768634612348066, 'S00724'), (1.7684185342663659, 'M00157'), (1.7683091363206864, 'T00585'), (1.7671550334092043, 'D00182'), (1.7669794978184206, 'T00060'), (1.765614316157485, 'S00611'), (1.7649236017403145, 'P_882'), (1.7623512865820326, 'T00113'), (1.7617029311262944, 'S00488'), (1.761220900039388, 'L00269'), (1.760246509313875, 'L00115'), (1.7592070737891585, 'T00488'), (1.7581745234010444, 'S00723'), (1.755379447235773, 'S00655'), (1.7546757946975413, 'P_347'), (1.7544480646935414, 'T00675'), (1.7527645820734166, 'P_1250'), (1.7522791095471264, 'T01183'), (1.7505528148713159, 'D00322'), (1.7504305904631239, 'L00131'), (1.7500662177030253, 'D00443'), (1.7497628503843483, 'S00376'), (1.7484000161702913, 'T00599'), (1.7479056131342374, 'D00826'), (1.7477905786101189, 'T00649'), (1.7475986837732127, 'C00777'), (1.7472135500548214, 'T01174'), (1.747023864893582, 'T01175'), (1.7458712002905068, 'T00172'), (1.7442626614864218, 'R00016'), (1.744065374557511, 'R00217'), (1.7437108094624125, 'T00112'), (1.7419025404218202, 'C00941'), (1.7413011840194108, 'T00702'), (1.7404697836208862, 'D00279'), (1.73809266882335, 'T00204'), (1.7376418942057663, 'T00102'), (1.7375449313395326, 'T00088'), (1.73680236372256, 'M00296'), (1.736260704398501, 'S00849'), (1.7356804108066257, 'D00001'), (1.7346624597869138, 'M00191'), (1.7344396218514226, 'S00885'), (1.734252699990203, 'M00073'), (1.7332253495002352, 'S00400'), (1.7330456986390934, 'T00684'), (1.7329453742149994, 'P_305'), (1.7319580447367657, 'L00336'), (1.7318263770020401, 'P_317'), (1.7306157596562075, 'P_1232'), (1.7291046753212564, 'D00872'), (1.7275885213233215, 'S00203'), (1.7269477077489017, 'T00714'), (1.7263345937873888, 'S00242'), (1.7253630793282837, 'L00145'), (1.7240336777260568, 'T00478'), (1.7232409899984793, 'L00273'), (1.7228449194223097, 'S00187'), (1.7226494980701321, 'M00193'), (1.722188063430806, 'L00428'), (1.721727945772415, 'T00178'), (1.7213411387145146, 'D00958'), (1.7211754875177068, 'M00076'), (1.720991413544226, 'P_747'), (1.7206706446763687, 'D00476'), (1.7197169598119295, 'S00796'), (1.7193365178279298, 'S00893'), (1.7170656940411675, 'L00084'), (1.7160064395008556, 'S00985'), (1.7146439937395974, 'L00057'), (1.7145023410874471, 'S00593'), (1.714243282233385, 'C00041'), (1.7115020405704908, 'S00389'), (1.7110164945523363, 'C00715'), (1.7105812905172546, 'C00173'), (1.7094735963417107, 'P_593'), (1.7093268521567202, 'T00880'), (1.7090498441881468, 'C00813'), (1.7088077319662984, 'C00667'), (1.7057058227355264, 'M00020'), (1.7042685236302637, 'S00946'), (1.7039266730901923, 'C00819'), (1.7035919370211914, 'L00032'), (1.7029530827577475, 'T00930'), (1.7011370448091125, 'D00984'), (1.6990950519207073, 'T01010'), (1.6982043279246928, 'S00057'), (1.6975054394327524, 'D00517'), (1.6970674787164652, 'S00738'), (1.6965916577241826, 'T00072'), (1.6965767518269024, 'S00299'), (1.6945326208033937, 'S00604'), (1.694039613637931, 'D00219'), (1.6925697711752625, 'C00963'), (1.6925461690263321, 'D00713'), (1.6924385602142795, 'T00209'), (1.6909775875223234, 'D00252'), (1.6908425794957047, 'D00815'), (1.6905985911691919, 'D00329'), (1.6899544249747198, 'D00540'), (1.6894180001128296, 'T00089'), (1.6892844734628434, 'S00100'), (1.6887531510076628, 'M00302'), (1.6867285594232402, 'D00146'), (1.6866949268363478, 'L00132'), (1.6863855982880545, 'C00373'), (1.6844807471812182, 'T00069'), (1.6841138190255687, 'T00409'), (1.6834531373372772, 'T00492'), (1.6822652156787017, 'T00606'), (1.6819011966489175, 'D00314'), (1.6811228745572788, 'P_208'), (1.6808518223744386, 'L00191'), (1.6805084101614096, 'P_247'), (1.6799532084086362, 'S00779'), (1.6799382381458183, 'T00437'), (1.6799209107874762, 'D00545'), (1.679295092208424, 'T00372'), (1.67880098151829, 'D00642'), (1.67840508095102, 'T00181'), (1.678117777576474, 'T00010'), (1.6781172745876964, 'S00039'), (1.6779455899424018, 'D00417'), (1.6777488699004646, 'T00504'), (1.6776176892601296, 'T00180'), (1.6767436756220093, 'T00648'), (1.6760375086441184, 'S00501'), (1.6755244907421547, 'M00005'), (1.6745379687880255, 'L00268'), (1.6730495054678722, 'D00358'), (1.672988187338625, 'T00124'), (1.6718225569165461, 'T00646'), (1.6716923013423306, 'C00909'), (1.6716387918522604, 'T00051'), (1.6714893857915654, 'T00119'), (1.6712289987446018, 'T00806'), (1.669827532708398, 'D00412'), (1.666573301916022, 'S00716'), (1.6652684262965731, 'D00464'), (1.6644872962116517, 'L00408'), (1.6625816313530082, 'S00443'), (1.6613869361321316, 'S00954'), (1.6612514569488346, 'P_1182'), (1.6586402220422738, 'S00983'), (1.65792786643601, 'L00072'), (1.6553742519086057, 'T00046'), (1.654561168985086, 'T00405'), (1.653654691033639, 'S00259'), (1.653201331238271, 'T00911'), (1.651780143883863, 'T01210'), (1.6501050415443648, 'D00018'), (1.6476718962501944, 'D00870'), (1.6472645027538946, 'T00897'), (1.6470958976346473, 'T00014'), (1.6465448395222437, 'D00365'), (1.6464639357189512, 'T00429'), (1.6461453631238379, 'P_2'), (1.6457619984932712, 'T00578'), (1.645664146453756, 'T00174'), (1.6451310595546365, 'L00492'), (1.6433533409725918, 'S00725'), (1.6426823246896893, 'T00602'), (1.6419218763782428, 'C00509'), (1.6412764005395841, 'L00346'), (1.6412090868616585, 'L00069'), (1.6409653440820238, 'S00322'), (1.640619172070222, 'L00241'), (1.6404704231877107, 'S00956'), (1.639168460279532, 'S00919'), (1.6382923418318456, 'T00522'), (1.6381400199692087, 'D00097'), (1.6377015157068917, 'L00279'), (1.637125639723308, 'R00312'), (1.637084002523471, 'S00929'), (1.6362652456974394, 'S00337'), (1.6362517030653076, 'T00452'), (1.635835870613626, 'R00283'), (1.6347322009720333, 'L00137'), (1.6335768325447035, 'R00071'), (1.6326959214260863, 'T00551'), (1.6326267169664241, 'D00882'), (1.6322684173190392, 'L00400'), (1.6307105034313636, 'S00110'), (1.6299259421319479, 'S00107'), (1.6295411394879862, 'M00348'), (1.6286062807867059, 'C00190'), (1.6282948995399251, 'L00253'), (1.6275887279608334, 'D00101'), (1.6265763025930629, 'P_1744'), (1.6260010589333393, 'T00200'), (1.624072856041419, 'T01170'), (1.6231910684708515, 'D00450'), (1.6229672317717367, 'S00690'), (1.6225581232231765, 'S00573'), (1.622523224041758, 'C00339'), (1.6214450613589875, 'S00699'), (1.620230137220296, 'S00467'), (1.6191297370235749, 'L00227'), (1.618491603075572, 'L00193'), (1.6178274929822165, 'T00161'), (1.6176283037446821, 'S00939'), (1.6173396913577325, 'C00950'), (1.6169263305822894, 'L00080'), (1.616248418298891, 'M00118'), (1.6161214732790912, 'T00173'), (1.6150671677664612, 'T00226'), (1.6145810290388443, 'T00356'), (1.6139756050810818, 'D00240'), (1.612437766161401, 'C00926'), (1.6104646734152386, 'D00086'), (1.6094749067439804, 'D00977'), (1.6086896967167068, 'T00179'), (1.6073608042515002, 'L00002'), (1.6065426266984881, 'M00250'), (1.605559858245466, 'T00279'), (1.6039995015905515, 'T00689'), (1.6036813825015568, 'D00165'), (1.60231554910025, 'T00120'), (1.6021931131747589, 'S00108'), (1.6017772638489838, 'T01178'), (1.6017172452260933, 'T00105'), (1.6016612568557687, 'S00941'), (1.6014186078950148, 'T00339'), (1.6008082424788788, 'T00517'), (1.5994160562046775, 'L00425'), (1.5985025086704787, 'T00668'), (1.5982657202124797, 'T01166'), (1.5982246795686537, 'T00034'), (1.5978775674306593, 'T00516'), (1.596995453544192, 'T00813'), (1.5958486710248458, 'D00886'), (1.5939109102817506, 'S00517'), (1.5938070668966615, 'S00221'), (1.5937264371223059, 'R00011'), (1.5935952204534383, 'T00229'), (1.5934108203559998, 'T00135'), (1.5924647196572206, 'T00402'), (1.5921242442071528, 'D00849'), (1.5913715743129253, 'D00622'), (1.5913597751371062, 'D00029'), (1.5889259439033787, 'D00169'), (1.5885483950074395, 'S00955'), (1.5882867520040596, 'P_1803'), (1.588263426446838, 'S00438'), (1.5873203255439297, 'L00315'), (1.5868320233947453, 'D00887'), (1.5864899508230395, 'D00944'), (1.5853123409152163, 'D00940'), (1.5848454163522399, 'M00340'), (1.5831692726258118, 'L00162'), (1.5829288846290293, 'L00086'), (1.5817036320940718, 'S00113'), (1.5814314307789148, 'S00047'), (1.5813412593201757, 'T00855'), (1.581225307976721, 'S00375'), (1.5807587391161526, 'S00711'), (1.5799181379609966, 'D00035'), (1.5794399475332934, 'T00411'), (1.5793236892080385, 'T00162'), (1.579168704728303, 'T01230'), (1.5789485168232613, 'R00050'), (1.5789425089076279, 'D00853'), (1.5787074234940157, 'D00645'), (1.578672987600009, 'C00539'), (1.5785696889310832, 'T00475'), (1.5783487849319768, 'T00128'), (1.5780339276598179, 'D00264'), (1.5764613918573436, 'M00263'), (1.5758968403807894, 'D00510'), (1.5742099702671242, 'S00028'), (1.573433820824057, 'L00469'), (1.5714063404356513, 'C00957'), (1.5711512154198546, 'T00867'), (1.5705378561723022, 'M00298'), (1.570451592737064, 'C00750'), (1.569443974417572, 'D00161'), (1.5691577178563927, 'S00240'), (1.5689683068174651, 'P_1715'), (1.568624191401592, 'T01104'), (1.5674906575194045, 'T00018'), (1.5674400594926647, 'M00387'), (1.565575846759828, 'T00043'), (1.565413071762105, 'T00246'), (1.5650771508948422, 'T00222'), (1.563018048550799, 'L00148'), (1.5627213557210038, 'T00164'), (1.5614324765292378, 'T00307'), (1.5613188539595713, 'C00580'), (1.5602591735143059, 'T00329'), (1.5594349759598727, 'D00907'), (1.559049870123962, 'T01271'), (1.5587855848478356, 'T00296'), (1.5583704603975825, 'T00931'), (1.5573147770202007, 'T00605'), (1.55690043548595, 'S00300'), (1.55689386767878, 'S00363'), (1.556636878376808, 'S00981'), (1.5565239526438444, 'T00171'), (1.5565173880126801, 'T00799'), (1.5563629025574668, 'D00320'), (1.5554707686900777, 'T00041'), (1.555445419193865, 'T00228'), (1.5543373914702596, 'L00348'), (1.5537436285149688, 'T00891'), (1.5527625814050117, 'T00400'), (1.5526942024094734, 'T00061'), (1.5526067571337074, 'D00528'), (1.5521297558585878, 'L00270'), (1.5516396693974281, 'T00167'), (1.5507824196291993, 'D00011'), (1.5505248944565295, 'L00154'), (1.5498902110556865, 'T00295'), (1.5495045370826819, 'D00206'), (1.5493679206226976, 'C00818'), (1.549065679443219, 'D00494'), (1.548845982079669, 'T00858'), (1.5486424822275133, 'T01167'), (1.5485430760790002, 'T00968'), (1.5468360803364312, 'C00368'), (1.5465387606749226, 'T00289'), (1.5462044126462342, 'T00417'), (1.545202235395072, 'T00622'), (1.5444654376928586, 'D00955'), (1.543756937410504, 'T01263'), (1.543094516638253, 'D00091'), (1.5426677331256073, 'S00511'), (1.5424252138628805, 'T00550'), (1.5421665343880615, 'T00163'), (1.5399896787133203, 'T00343'), (1.5397795073685085, 'M00171'), (1.5390691348491987, 'T00651'), (1.5385908868334364, 'T01216'), (1.5375985515779447, 'T00177'), (1.5375250961809657, 'T01276'), (1.5352514548239278, 'L00422'), (1.5347755760989674, 'T00086'), (1.5338978053844363, 'M00247'), (1.5337881546360304, 'L00432'), (1.5323464432280747, 'T00001'), (1.5320112808478081, 'T00004'), (1.5317925340510747, 'L00430'), (1.531730259265345, 'S00310'), (1.531697842257521, 'C00091'), (1.5316654266217926, 'S00330'), (1.530441801350727, 'T00145'), (1.528990220460444, 'D00537'), (1.527962742359833, 'T00280'), (1.527491370749497, 'T00355'), (1.5272675924732724, 'M00059'), (1.526110327171585, 'D00516'), (1.5253704895322275, 'C00843'), (1.5250490667246333, 'D00521'), (1.5228453686328645, 'D00807'), (1.5218570948148635, 'S00164'), (1.5216491850994605, 'T00659'), (1.5211858802348022, 'P_1224'), (1.5210663362706232, 'M00327'), (1.5199031355225632, 'D00667'), (1.5198289086350907, 'S00821'), (1.519271263651305, 'T00218'), (1.5178024626047677, 'L00465'), (1.517695100855214, 'P03064'), (1.5169439936749085, 'T00524'), (1.5169082452098843, 'L00324'), (1.5140349674135845, 'D00121'), (1.5126499884997764, 'C00234'), (1.5116000745227016, 'S00783'), (1.5111746321253496, 'T01004'), (1.510944698243002, 'R00365'), (1.5107554588592897, 'T00565'), (1.5094950733634604, 'D00081'), (1.5083770669914032, 'S00252'), (1.5075292239844187, 'L00248'), (1.5070703735316286, 'T00325'), (1.5069178464263662, 'S00781'), (1.5063297433284817, 'S00496'), (1.5045018878214629, 'D00638'), (1.5028323264416488, 'D00200'), (1.5024971851466082, 'T00913'), (1.5006138695403493, 'D00386'), (1.5002259496388357, 'T00662'), (1.4996966848338713, 'T00287'), (1.497687457228407, 'S00553'), (1.4968511206397346, 'L00414'), (1.49537648135204, 'T00249'), (1.4951333409938112, 'S00637'), (1.4944390897273077, 'T00281'), (1.4942656276393391, 'T00853'), (1.4929832586462222, 'T00053'), (1.4923947997588, 'S00912'), (1.490597683998586, 'T00528'), (1.4905916636772079, 'T00917'), (1.4904596235789822, 'T00243'), (1.4900111037863273, 'S00401'), (1.4897636912865209, 'C00436'), (1.4886253535011165, 'L00041'), (1.488288540498737, 'L00436'), (1.4880476994162135, 'T00121'), (1.48707075943567, 'L00497'), (1.4867072961649477, 'C00378'), (1.4837942549869543, 'T00215'), (1.4834864835385426, 'T01135'), (1.4827688464407298, 'P_1788'), (1.4827005362602017, 'L00224'), (1.4823249427442209, 'T00250'), (1.4819836591817643, 'M00233'), (1.480449825882326, 'T00166'), (1.479219114540311, 'L00124'), (1.478866452702043, 'S00754'), (1.4787153747519584, 'S00340'), (1.4784835479578267, 'D00478'), (1.475610021987423, 'D00005'), (1.4749204205598974, 'T00814'), (1.4736710266124533, 'T00298'), (1.4727269454126146, 'S00863'), (1.4723900666356309, 'T00346'), (1.4722610974401615, 'D00277'), (1.4720196779431576, 'P_1694'), (1.4702970432609168, 'S00351'), (1.4702041056489692, 'T00303'), (1.4696334631343644, 'T00529'), (1.4661520951043223, 'T00592'), (1.4654809651155116, 'L00048'), (1.4645912818648488, 'M00329'), (1.4643842732800987, 'T00220'), (1.463768942198932, 'D00465'), (1.463485322876728, 'T00297'), (1.4632524417954662, 'T00426'), (1.4619715029604956, 'D00952'), (1.4610603441960723, 'T00562'), (1.459470212237108, 'L00334'), (1.457553414675277, 'T00819'), (1.4572483937575342, 'C00972'), (1.4570723650539694, 'M00379'), (1.4564368327980532, 'D00970'), (1.4558721099957888, 'S00886'), (1.4557174141721223, 'D00167'), (1.4556416453679313, 'T00006'), (1.4554770724440784, 'T00598'), (1.454457550323977, 'T00214'), (1.4528603973487844, 'L00321'), (1.4512871806843448, 'M00239'), (1.4509822083710144, 'T00020'), (1.4504590705872324, 'T00301'), (1.450365974101976, 'D00080'), (1.4503610242456493, 'T00263'), (1.4487288678211092, 'T01211'), (1.448337696745142, 'C00356'), (1.448239936980187, 'L00476'), (1.4479467368522467, 'C00748'), (1.447593869943707, 'D00093'), (1.4464433517921078, 'S00135'), (1.4449239393022602, 'T00169'), (1.4439625662274986, 'D00260'), (1.4439132795211527, 'D00156'), (1.4439039002809704, 'M00278'), (1.4428939292487861, 'L00459'), (1.4415402514044258, 'L00088'), (1.4407847868716872, 'D00176'), (1.4389482168204875, 'R00465'), (1.4385406267481322, 'S00180'), (1.4368235261520266, 'D00318'), (1.4355569343930987, 'L00399'), (1.4352848301749923, 'C00341'), (1.4342350655758205, 'L00230'), (1.4333089041835787, 'S00820'), (1.4329829555167484, 'L00242'), (1.4329579144128712, 'T00942'), (1.4305057910172552, 'T01013'), (1.4289851875746833, 'D00832'), (1.4283789432662881, 'T00543'), (1.4283167160644468, 'T00002'), (1.4282885284709095, 'S00267'), (1.42809372902892, 'T00359'), (1.4278654740815868, 'D00118'), (1.4253425190034077, 'S00808'), (1.425153171067792, 'T00392'), (1.424427803119592, 'P_1787'), (1.4223468744066172, 'D00525'), (1.4223189769164677, 'S00307'), (1.421533700213731, 'M00032'), (1.4215023071812865, 'T00381'), (1.4211489384991787, 'D00508'), (1.4205298104398856, 'T01127'), (1.419402127929712, 'L00231'), (1.4191092739718199, 'D00173'), (1.4165907391983255, 'T01122'), (1.4156329400326944, 'L00149'), (1.4156249488961397, 'T00332'), (1.4148159460639447, 'M00217'), (1.414814741711543, 'D00140'), (1.4142874824323006, 'T00541'), (1.4139182556816523, 'S00320'), (1.4136041740674339, 'T00540'), (1.412368267779628, 'S00548'), (1.4120536533908838, 'T00266'), (1.4117747985970697, 'D00151'), (1.4117695203778844, 'M00370'), (1.406784519894517, 'D00422'), (1.4058114898573788, 'D00006'), (1.4051910778597547, 'T00141'), (1.4031884596570834, 'C00948'), (1.3994361149034342, 'S00462'), (1.3991015167575707, 'T01226'), (1.397944834644968, 'D00087'), (1.397320799218883, 'D00756'), (1.3962487358850515, 'S00667'), (1.396036760112301, 'S00271'), (1.3944943057769539, 'T00268'), (1.3937394449555145, 'T00341'), (1.3928949704691729, 'T00316'), (1.3916903519984367, 'T00658'), (1.3912692276310465, 'T00557'), (1.3910286995442485, 'T00389'), (1.3908483580503395, 'S00241'), (1.3904277430251606, 'P_1162'), (1.390228142766883, 'D00010'), (1.390043157928974, 'D00503'), (1.3889212080503577, 'D00858'), (1.3883883691847885, 'S00143'), (1.3875719290307955, 'L00266'), (1.3875161336656368, 'T00481'), (1.3874097388895117, 'L00264'), (1.3872842344588174, 'T00663'), (1.3863251104741814, 'S00648'), (1.3861232317000929, 'D00274'), (1.3839405899561887, 'T00589'), (1.3793888042856979, 'D00054'), (1.3792877538445503, 'D00641'), (1.3792134839145695, 'D00903'), (1.3777200760004882, 'C00718'), (1.3762178098666227, 'T01267'), (1.3761975096197674, 'C00952'), (1.3729104365831266, 'D00570'), (1.3729009024620933, 'L00388'), (1.3722528392126565, 'D00999'), (1.372153309510616, 'D00763'), (1.3714383413502595, 'T00604'), (1.3713557804188536, 'C00291'), (1.370941780174992, 'L00076'), (1.3701797228472186, 'D00953'), (1.37003212551369, 'T00070'), (1.3697641025101308, 'L00392'), (1.3692212068692842, 'T00225'), (1.3688573483644288, 'D00595'), (1.3668370613726952, 'T01282'), (1.3668080376704392, 'M00049'), (1.3655901542132942, 'C00388'), (1.365390853627336, 'D00937'), (1.3652363162258694, 'D00239'), (1.3651557216511276, 'P_142'), (1.3650399196465663, 'T00029'), (1.3644612041927697, 'L00479'), (1.3638556192159135, 'D00446'), (1.3635446847260573, 'S00679'), (1.3617766105894011, 'M00131'), (1.3617189934222795, 'T00096'), (1.3610952915932124, 'L00082'), (1.3568392906703197, 'T00338'), (1.3565819280392049, 'C00396'), (1.3544695311124353, 'T01101'), (1.3528184618397914, 'T00553'), (1.3527616002073244, 'D00781'), (1.3527331711835584, 'T00007'), (1.3516537529969799, 'T00016'), (1.3508594938859937, 'T00257'), (1.350831144752789, 'S00702'), (1.3507177601176688, 'S00269'), (1.3501511223370757, 'T00753'), (1.3500661676722865, 'S00864'), (1.3497868726373592, 'C00961'), (1.349610679382035, 'D00360'), (1.34947061641021, 'D00231'), (1.349466849925922, 'T00152'), (1.3487806732256566, 'L00352'), (1.3475507001479514, 'T00126'), (1.3458961883165907, 'S00662'), (1.3427718347470108, 'T00364'), (1.34237979129521, 'T00244'), (1.3405115886438472, 'S00769'), (1.3373873360197468, 'L00311'), (1.3355763946315735, 'S00569'), (1.3342270939268137, 'M00290'), (1.334144131337066, 'T00576'), (1.3326525670025382, 'L00226'), (1.3293820705953945, 'D00796'), (1.3281704118514812, 'S00831'), (1.3245627252654633, 'L00445'), (1.324285462260362, 'L00036'), (1.3239589814477224, 'M00098'), (1.3212036953903268, 'S00844'), (1.3211098297812391, 'T00049'), (1.3201618075527985, 'T00363'), (1.31935003008901, 'T00601'), (1.3187962025677968, 'D00981'), (1.3185317132497576, 'S00048'), (1.3179992839028973, 'S00774'), (1.317979373669548, 'D00344'), (1.317756443261001, 'M00373'), (1.316059061162523, 'T01009'), (1.315400383060819, 'D00474'), (1.3147956054554646, 'T01113'), (1.3139635892055084, 'L00281'), (1.3127576956964184, 'T00432'), (1.3116023109569979, 'L00454'), (1.3106994039146664, 'S00116'), (1.3106460277882483, 'D00589'), (1.3099907664836838, 'L00016'), (1.309286403889537, 'C00815'), (1.3091798860096708, 'S00117'), (1.3090467630300173, 'T01228'), (1.3076760847178794, 'D00706'), (1.30739210924773, 'L00151'), (1.306983561091531, 'D00830'), (1.306389977232787, 'T00396'), (1.3063634638339174, 'L00439'), (1.3044659304091988, 'T00142'), (1.3025941686628029, 'D00340'), (1.3019771065705719, 'T00424'), (1.2994276024984732, 'P_546'), (1.2985448527926655, 'D00049'), (1.298192163742092, 'S00131'), (1.298060042688126, 'D00295'), (1.2962351514035766, 'T00803'), (1.2958636831105723, 'D00573'), (1.2956611321677909, 'T00762'), (1.2941502428087552, 'S00772'), (1.2940679754124604, 'D00232'), (1.2923617595644288, 'D00046'), (1.2904401298209236, 'T01231'), (1.287626397562073, 'L00146'), (1.2859498358304837, 'R00048'), (1.2858525527126123, 'C00289'), (1.2855177192505751, 'P_736'), (1.2833135859780969, 'S00866'), (1.2831495547860399, 'D00041'), (1.2815265189629794, 'D00729'), (1.2788092530109945, 'S00178'), (1.2784199001653642, 'S00894'), (1.2779737520351115, 'C00990'), (1.2776922496901972, 'D00437'), (1.2759617328131736, 'T00615'), (1.2756330058787104, 'L00063'), (1.2747740587704741, 'T01229'), (1.274294562550224, 'T00832'), (1.2741179969642036, 'T00017'), (1.272737335654743, 'L00235'), (1.2709342547997036, 'D00305'), (1.270923095681066, 'D00620'), (1.2689687587762084, 'L00288'), (1.2675525331541175, 'T00766'), (1.2658493556140877, 'L00349'), (1.2635382418080712, 'D00378'), (1.262546346656667, 'C00345'), (1.262457915278116, 'S00016'), (1.2622282482163811, 'D00036'), (1.260942794497249, 'D00250'), (1.2600262052493272, 'T00212'), (1.256876928394957, 'T00407'), (1.2553197607765112, 'C00517'), (1.2548432191874388, 'L00200'), (1.2546886496078737, 'D00724'), (1.2546475467130378, 'S00078'), (1.2511115299883209, 'S00095'), (1.2502021864871964, 'D00590'), (1.2496299134597595, 'T00647'), (1.2485876022064524, 'M00338'), (1.248563383097972, 'M00112'), (1.248014481166585, 'L00185'), (1.243642253857926, 'L00258'), (1.243313770510216, 'D00784'), (1.2396663405473891, 'L00219'), (1.239581212024206, 'D00286'), (1.238801902094961, 'P_1027'), (1.2375689204948068, 'T00387'), (1.2370830839009568, 'D00373'), (1.2367604532277041, 'T00323'), (1.235012488799067, 'M00384'), (1.2344597383857987, 'T00075'), (1.2320756046651744, 'D00296'), (1.2320260633333817, 'T01195'), (1.2309187368780858, 'T00664'), (1.2296826308057642, 'L00210'), (1.2296199545954531, 'D00236'), (1.2282645696014634, 'T00892'), (1.2246264745187725, 'D00630'), (1.224502679705559, 'L00371'), (1.2235018472859074, 'L00114'), (1.2232228371400895, 'S00545'), (1.2204628589540678, 'T00798'), (1.2187989954662513, 'S00302'), (1.2156455294719846, 'T00283'), (1.2154400650789259, 'D00220'), (1.2151635932802831, 'T00275'), (1.2133540127642322, 'T00373'), (1.2127099505126486, 'L00282'), (1.2112762275236655, 'L00449'), (1.2111166926018373, 'T00247'), (1.2102513786369407, 'T00313'), (1.2080254753299113, 'S00065'), (1.204408891230513, 'T00134'), (1.2042286303748608, 'S00198'), (1.2011948459534854, 'S00564'), (1.1997619420837298, 'S00597'), (1.1971957649329414, 'T00080'), (1.196683064161936, 'D00559'), (1.1943296200317812, 'D00207'), (1.1918975382487376, 'L00297'), (1.190640862882536, 'T00125'), (1.190108691105946, 'S00062'), (1.1900025182634542, 'L00129'), (1.1898337045594236, 'S00910'), (1.1890937925716467, 'M00284'), (1.18811351456755, 'T00700'), (1.1879161747232834, 'T00399'), (1.1874549769938803, 'T00482'), (1.1865585017251956, 'D00468'), (1.1847458224315544, 'T00685'), (1.182612667849002, 'T00309'), (1.1825858916853726, 'D00062'), (1.1815763986981622, 'D00349'), (1.1813301607968985, 'D00347'), (1.1791464265803056, 'T01037'), (1.179038433918482, 'T00285'), (1.1789520540303822, 'T00302'), (1.178566172090207, 'D00227'), (1.1785203443738432, 'T01125'), (1.1780242689665077, 'T00804'), (1.1768418619175727, 'D00012'), (1.1764909120854492, 'D00223'), (1.1759367113988437, 'L00011'), (1.1736374467593131, 'D00287'), (1.17362918463258, 'L00490'), (1.1716130858752087, 'T00398'), (1.1710706329982383, 'D00032'), (1.1705351832009974, 'D00212'), (1.1641753922414513, 'L00090'), (1.1641332827829425, 'D00419'), (1.1610789094104144, 'D00661'), (1.1604564686623904, 'C00455'), (1.1591856637638323, 'L00116'), (1.1585616584765264, 'S00577'), (1.1584554854403553, 'S00379'), (1.156478201919045, 'L00417'), (1.155159172537176, 'T00434'), (1.1544212226248873, 'T00136'), (1.153700638889983, 'L00302'), (1.1515540970540008, 'T01169'), (1.1514467739295196, 'L00187'), (1.1493744794845155, 'T01052'), (1.148923139565061, 'L00447'), (1.148697602504405, 'M00081'), (1.1457089191895604, 'S00174'), (1.1456309099666149, 'L00376'), (1.1447955281003905, 'M00349'), (1.1442867465658912, 'S00077'), (1.1436411349504148, 'D00255'), (1.1410146085252664, 'C00611'), (1.1371333013332832, 'D00288'), (1.1364418440595891, 'D00300'), (1.1360177384871046, 'D00736'), (1.1356166714923175, 'D00987'), (1.1333864406731173, 'T00064'), (1.1329532048555278, 'D00285'), (1.1322500602044003, 'M00272'), (1.1317921657203458, 'L00144'), (1.1314604354686508, 'T00660'), (1.1308875371479932, 'D00184'), (1.1305795416604616, 'L00134'), (1.1295478791463094, 'T01223'), (1.1288358696318364, 'D00786'), (1.1275871733743117, 'D00281'), (1.1272981822250778, 'D00076'), (1.1270212021234514, 'D00389'), (1.1268782928389232, 'L00133'), (1.1265165540612971, 'D00985'), (1.1258232142402962, 'D00779'), (1.125605498924568, 'D00959'), (1.1241034974454627, 'L00319'), (1.1218542263000004, 'L00100'), (1.1209322566442022, 'S00079'), (1.1204984378315275, 'D00154'), (1.120424957617489, 'S00576'), (1.1188422008755143, 'D00385'), (1.1184163882659628, 'D00063'), (1.1167316647622842, 'T00132'), (1.115183868347998, 'T00422'), (1.1148381899117163, 'L00280'), (1.1145852500278677, 'C00316'), (1.1139047833528166, 'D00030'), (1.1129856570404337, 'L00243'), (1.1123893957143258, 'T00863'), (1.108271550432475, 'S00557'), (1.1067280716293737, 'L00192'), (1.103921210860588, 'L00022'), (1.103843240099036, 'M00268'), (1.1018026137212682, 'L00351'), (1.10151859973567, 'D00183'), (1.10128394100872, 'D00221'), (1.100024653129431, 'D00132'), (1.0999574525771387, 'T01196'), (1.098989022239847, 'D00166'), (1.0984924874814017, 'D00216'), (1.0980164172009972, 'D00069'), (1.0979873399331987, 'D00276'), (1.0952750311500619, 'L00130'), (1.095129205418121, 'L00261'), (1.0948254825299588, 'D00741'), (1.0936678968289604, 'D00323'), (1.0933620225558796, 'D00845'), (1.0916959940184754, 'D00098'), (1.091193419203861, 'L00382'), (1.0861419981133271, 'D00379'), (1.0831932664070085, 'D00505'), (1.0786856095092852, 'T00767'), (1.0782758874765876, 'P_1824'), (1.0778727725540376, 'T00361'), (1.0743746398577438, 'M00100'), (1.0733071294971608, 'D00725'), (1.0731320693028594, 'D00973'), (1.071830057968806, 'M00050'), (1.0711344523723207, 'S00255'), (1.0648381926637482, 'T00269'), (1.064397986405338, 'D00753'), (1.0634006643587965, 'D00670'), (1.0616768105181105, 'T00153'), (1.054096487249994, 'T00306'), (1.0530368466951254, 'M00111'), (1.0500610630316074, 'L00028'), (1.0487056929627887, 'T00008'), (1.0478379688714927, 'S00172'), (1.044028848433171, 'D00861'), (1.0411555332485118, 'L00189'), (1.0387990254053177, 'D00501'), (1.0383865609768301, 'D00496'), (1.0374135577973633, 'T00349'), (1.0355191362227627, 'D00192'), (1.0344513507348885, 'D00234'), (1.031726714759517, 'C00161'), (1.0296363014612588, 'T00544'), (1.0284627386744627, 'S00155'), (1.023723151877132, 'P_1973'), (1.0214981272756953, 'D00715'), (1.020858716204108, 'D00004'), (1.0200338808767249, 'D00363'), (1.0181650678605723, 'S00477'), (1.0150822405966886, 'L00135'), (1.0114296505357347, 'L00286'), (1.0112077625557365, 'R00041'), (1.007982638220227, 'D00493'), (1.0079545618128307, 'M00125'), (1.0065169647216823, 'D00180'), (1.0051122447157748, 'L00350'), (1.0044064715859704, 'C00155'), (1.0027947600183174, 'D00950'), (1.0018987544134939, 'D00651'), (1.0018115027637666, 'P_1222'), (0.9997110022399207, 'D00652'), (0.9972577344668659, 'D00113'), (0.9948201270222983, 'D00562'), (0.994142135528748, 'C00008'), (0.9924600767975694, 'D00862'), (0.9913963500449186, 'S00392'), (0.9847079553810154, 'L00323'), (0.983696378611444, 'D00355'), (0.9836245329195648, 'T00650'), (0.9805733324558936, 'S00534'), (0.9765659001449104, 'D00390'), (0.9737121871277995, 'D00614'), (0.9734055319764062, 'M00053'), (0.972317448665175, 'D00469'), (0.9722587026450177, 'S00056'), (0.9683679606925867, 'D00148'), (0.9664190201403725, 'D00823'), (0.9660716250572424, 'S00421'), (0.9636851495735572, 'T00056'), (0.9633317819893527, 'D00688'), (0.9595334904625387, 'T00058'), (0.9583314913456579, 'D00487'), (0.9535941999185993, 'D00304'), (0.950940127721272, 'D00536'), (0.9507604439624694, 'D00928'), (0.9498792678007404, 'D00714'), (0.9492297377850968, 'T00865'), (0.9472560413594145, 'D00699'), (0.9470121804409887, 'D00208'), (0.9464137257284417, 'S00175'), (0.9445519607709475, 'D00997'), (0.9418444050798531, 'L00060'), (0.9394786771726799, 'S00284'), (0.9381065903379759, 'D00122'), (0.9365184869352288, 'D00865'), (0.9363488581277054, 'D00751'), (0.9354411777114101, 'D00632'), (0.9349889716797559, 'T00404'), (0.9347717212837972, 'D00580'), (0.9342561559946168, 'T01224'), (0.934025692442043, 'L00317'), (0.9335588280280896, 'D00248'), (0.930784180709047, 'D00799'), (0.9297355282891258, 'S00763'), (0.9277656310026183, 'C00235'), (0.9234340840628237, 'S00082'), (0.9233339361257641, 'D00275'), (0.9206149696113353, 'S00032'), (0.9193643840042449, 'L00161'), (0.9192330909155985, 'S00094'), (0.9142715907338296, 'C00934'), (0.9125735701623255, 'S00088'), (0.911642990150405, 'D00582'), (0.9085608939176429, 'D00609'), (0.9080676584375577, 'T00696'), (0.9070464515770501, 'D00334'), (0.9062266910732951, 'L00035'), (0.9050035208752061, 'D00203'), (0.9043931731621757, 'L00197'), (0.9037411154755485, 'D00423'), (0.8996153018399315, 'C00977'), (0.8994263742865735, 'D00472'), (0.8980982034473509, 'R00377'), (0.8976395647081932, 'D00052'), (0.8961085581012302, 'T01188'), (0.8960939072613283, 'D00313'), (0.8938437981106054, 'L00303'), (0.8884732209777061, 'D00280'), (0.8875362062741573, 'D00078'), (0.8871723132551744, 'P_1582'), (0.8856285957706671, 'D00708'), (0.8843261857568865, 'L00105'), (0.8834302427719892, 'D00477'), (0.8819880697768655, 'D00707'), (0.881804921342481, 'D00532'), (0.8777904073676384, 'T00091'), (0.8737284443199942, 'D00526'), (0.8727872521741323, 'D00441'), (0.8712713096743167, 'T00013'), (0.8687328842810866, 'D00816'), (0.8673775775212279, 'D00038'), (0.8639005888110576, 'D00520'), (0.8632617144298955, 'D00095'), (0.8595707137527665, 'D00814'), (0.8559167953021957, 'T00682'), (0.8557119810348552, 'D00552'), (0.8477329805790744, 'L00173'), (0.8432573646747167, 'T00150'), (0.8408669365341326, 'C00893'), (0.8390911771955527, 'D00774'), (0.8387799878447838, 'D00381'), (0.8356404640094212, 'D00243'), (0.8332177877284372, 'D00330'), (0.8315984819780164, 'D00407'), (0.8309347734016161, 'P_3'), (0.8291347402670621, 'D00089'), (0.827284179991534, 'L00332'), (0.8263584025206749, 'D00660'), (0.8219755846888662, 'D00692'), (0.8219195757911301, 'D00771'), (0.8218846319954592, 'D00824'), (0.8218426572500643, 'D00840'), (0.8138691362652225, 'D00447'), (0.8134199272114329, 'M00311'), (0.8103697927204184, 'D00433'), (0.8047855462627118, 'D00749'), (0.8016628781135952, 'S00485'), (0.8012891279586332, 'S00011'), (0.8008405103276023, 'D00435'), (0.799279259183711, 'S00090'), (0.7982851032858421, 'D00073'), (0.7922356622791256, 'S00081'), (0.7920820703123825, 'D00982'), (0.7916510499492774, 'S00103'), (0.7866309957129705, 'D00396'), (0.7851043952525011, 'D00611'), (0.7840715496618651, 'D00217'), (0.7824906069624574, 'D00857'), (0.777912294057344, 'D00945'), (0.7716613635692543, 'D00745'), (0.7715050715955364, 'D00268'), (0.7664882323924649, 'D00068'), (0.7654515358297052, 'T00156'), (0.7637730090011878, 'D00056'), (0.7622741336157554, 'D00303'), (0.7556444740399211, 'D00262'), (0.7545651487487449, 'S00064'), (0.7536130148935722, 'L00455'), (0.7512052192499995, 'D00693'), (0.7502400764592267, 'L00477'), (0.7451492845873974, 'D00144'), (0.7438589521074557, 'D00593'), (0.7429754811485416, 'D00057'), (0.7380369078708273, 'D00929'), (0.7346506896720073, 'D00677'), (0.732027675542729, 'D00168'), (0.7307342466912434, 'D00809'), (0.7304540837447344, 'M00352'), (0.7050047072137157, 'D00833'), (0.7044800228140119, 'T00185'), (0.6952200420597104, 'D00621'), (0.6939032160204666, 'D00783'), (0.6931655218268304, 'C00052'), (0.6903422880663341, 'D00542'), (0.689953999896058, 'D00096'), (0.6829871892707794, 'D00445'), (0.6788678618450541, 'D00567'), (0.676703372250294, 'D00115'), (0.6766337797828974, 'D00384'), (0.670472011255496, 'M00141'), (0.6702857256010585, 'S00087'), (0.6699320678941856, 'D00171'), (0.6692068845576389, 'D00676'), (0.6637268213425299, 'D00204'), (0.6635089719062252, 'L00017'), (0.6632159151969039, 'C00592'), (0.6626269179275882, 'D00571'), (0.6613161619734425, 'L00183'), (0.6503033887882549, 'D00138'), (0.6483042862893197, 'D00092'), (0.6412732239154998, 'D00889'), (0.6362110370163802, 'D00027'), (0.626371486393036, 'D00399'), (0.6256945904266055, 'D00410'), (0.6242751677406163, 'D00162'), (0.6185693289768024, 'L00487'), (0.618455120183991, 'D00272'), (0.6156820203040102, 'D00588'), (0.6156248743641553, 'D00259'), (0.6113025354779563, 'T00154'), (0.6111980540246068, 'D00361'), (0.602103867408659, 'D00254'), (0.6019035697556441, 'D00157'), (0.5978266368303705, 'D00284'), (0.5880748331615525, 'D00082'), (0.58281935479739, 'D00883'), (0.580197919044998, 'D00418'), (0.5768493981136478, 'T00140'), (0.5757729526686998, 'D00289'), (0.5719598512523901, 'D00174'), (0.5653695163217504, 'D00563'), (0.5649911770987961, 'S00540'), (0.5641691471769565, 'S00017'), (0.5594082807936014, 'D00354'), (0.5588594499965439, 'D00485'), (0.536514355068228, 'D00015'), (0.5324095038687772, 'D00723'), (0.5213444171466427, 'D00261'), (0.5203511075808771, 'D00326'), (0.5195852910692357, 'D00181'), (0.48956639595748835, 'D00177'), (0.48121514252003594, 'D00186'), (0.4771622854169143, 'D00103'), (0.45795934711399033, 'D00734'), (0.43812615682421685, 'S00258'), (0.4244240214151058, 'D00646'), (0.4189743976966923, 'D00687'), (0.16101923134858911, 'P_1174'), (0, 'D00199')])\n"
     ]
    }
   ],
   "source": [
    "score_dict_BM25 = collections.OrderedDict(sorted(score_BM25.items(),reverse=True))\n",
    "print(score_dict_BM25)"
   ]
  },
  {
   "cell_type": "code",
   "execution_count": 131,
   "id": "WhFOZntxy1TH",
   "metadata": {
    "colab": {
     "base_uri": "https://localhost:8080/"
    },
    "id": "WhFOZntxy1TH",
    "outputId": "9daddcf8-0f94-4a6a-be77-5ab4b3fc8341"
   },
   "outputs": [
    {
     "name": "stdout",
     "output_type": "stream",
     "text": [
      "Document  1  equals  C00005   12.3871565021086\n",
      "Document  2  equals  C00892   12.01468016290079\n",
      "Document  3  equals  C00712   11.932025316899862\n",
      "Document  4  equals  C00237   11.859656934315488\n",
      "Document  5  equals  C00669   11.822587488063023\n",
      "Document  6  equals  C00197   11.79707857997897\n",
      "Document  7  equals  C00462   11.764972611476507\n",
      "Document  8  equals  C00044   11.684093072001238\n",
      "Document  9  equals  C00425   11.590017549225454\n",
      "Document  10  equals  C00753   11.582161005820069\n"
     ]
    }
   ],
   "source": [
    "count = 1\n",
    "for k,v in score_dict_BM25.items():\n",
    "    print(\"Document \",count,\" equals \",v,\" \",k)\n",
    "    count += 1\n",
    "    if count == 11:\n",
    "        break"
   ]
  },
  {
   "cell_type": "markdown",
   "id": "51c2817f",
   "metadata": {},
   "source": [
    "### Finished"
   ]
  }
 ],
 "metadata": {
  "colab": {
   "collapsed_sections": [],
   "name": "IR Assignment.ipynb",
   "provenance": []
  },
  "kernelspec": {
   "display_name": "Python 3 (ipykernel)",
   "language": "python",
   "name": "python3"
  },
  "language_info": {
   "codemirror_mode": {
    "name": "ipython",
    "version": 3
   },
   "file_extension": ".py",
   "mimetype": "text/x-python",
   "name": "python",
   "nbconvert_exporter": "python",
   "pygments_lexer": "ipython3",
   "version": "3.9.7"
  }
 },
 "nbformat": 4,
 "nbformat_minor": 5
}
